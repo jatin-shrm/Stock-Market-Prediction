{
 "cells": [
  {
   "cell_type": "code",
   "execution_count": 1,
   "metadata": {},
   "outputs": [],
   "source": [
    "# import pandas_datareader as pdr"
   ]
  },
  {
   "cell_type": "code",
   "execution_count": 2,
   "metadata": {},
   "outputs": [],
   "source": [
    "# df=pdr.get_data_tiingo('AAPL',api_key='2d8e2696f1e0cede39e3a0ed42335fb9c3e844bb')"
   ]
  },
  {
   "cell_type": "code",
   "execution_count": 3,
   "metadata": {},
   "outputs": [],
   "source": [
    "# df.to_csv('AAPL.csv')"
   ]
  },
  {
   "cell_type": "code",
   "execution_count": 4,
   "metadata": {},
   "outputs": [],
   "source": [
    "import pandas as pd\n",
    "import  numpy as np\n",
    "import math"
   ]
  },
  {
   "cell_type": "code",
   "execution_count": 5,
   "metadata": {},
   "outputs": [],
   "source": [
    "df=pd.read_csv('AAPL.csv')"
   ]
  },
  {
   "cell_type": "code",
   "execution_count": 6,
   "metadata": {},
   "outputs": [
    {
     "data": {
      "text/html": [
       "<div>\n",
       "<style scoped>\n",
       "    .dataframe tbody tr th:only-of-type {\n",
       "        vertical-align: middle;\n",
       "    }\n",
       "\n",
       "    .dataframe tbody tr th {\n",
       "        vertical-align: top;\n",
       "    }\n",
       "\n",
       "    .dataframe thead th {\n",
       "        text-align: right;\n",
       "    }\n",
       "</style>\n",
       "<table border=\"1\" class=\"dataframe\">\n",
       "  <thead>\n",
       "    <tr style=\"text-align: right;\">\n",
       "      <th></th>\n",
       "      <th>Unnamed: 0</th>\n",
       "      <th>symbol</th>\n",
       "      <th>date</th>\n",
       "      <th>close</th>\n",
       "      <th>high</th>\n",
       "      <th>low</th>\n",
       "      <th>open</th>\n",
       "      <th>volume</th>\n",
       "      <th>adjClose</th>\n",
       "      <th>adjHigh</th>\n",
       "      <th>adjLow</th>\n",
       "      <th>adjOpen</th>\n",
       "      <th>adjVolume</th>\n",
       "      <th>divCash</th>\n",
       "      <th>splitFactor</th>\n",
       "    </tr>\n",
       "  </thead>\n",
       "  <tbody>\n",
       "    <tr>\n",
       "      <th>0</th>\n",
       "      <td>0</td>\n",
       "      <td>AAPL</td>\n",
       "      <td>2018-08-20 00:00:00+00:00</td>\n",
       "      <td>215.46</td>\n",
       "      <td>219.18</td>\n",
       "      <td>215.11</td>\n",
       "      <td>218.10</td>\n",
       "      <td>30287695</td>\n",
       "      <td>51.584538</td>\n",
       "      <td>52.475165</td>\n",
       "      <td>51.500742</td>\n",
       "      <td>52.216596</td>\n",
       "      <td>121150780</td>\n",
       "      <td>0.0</td>\n",
       "      <td>1.0</td>\n",
       "    </tr>\n",
       "    <tr>\n",
       "      <th>1</th>\n",
       "      <td>1</td>\n",
       "      <td>AAPL</td>\n",
       "      <td>2018-08-21 00:00:00+00:00</td>\n",
       "      <td>215.04</td>\n",
       "      <td>217.19</td>\n",
       "      <td>214.03</td>\n",
       "      <td>216.80</td>\n",
       "      <td>26159755</td>\n",
       "      <td>51.483983</td>\n",
       "      <td>51.998727</td>\n",
       "      <td>51.242173</td>\n",
       "      <td>51.905355</td>\n",
       "      <td>104639020</td>\n",
       "      <td>0.0</td>\n",
       "      <td>1.0</td>\n",
       "    </tr>\n",
       "    <tr>\n",
       "      <th>2</th>\n",
       "      <td>2</td>\n",
       "      <td>AAPL</td>\n",
       "      <td>2018-08-22 00:00:00+00:00</td>\n",
       "      <td>215.05</td>\n",
       "      <td>216.36</td>\n",
       "      <td>213.84</td>\n",
       "      <td>214.10</td>\n",
       "      <td>19018131</td>\n",
       "      <td>51.486377</td>\n",
       "      <td>51.800012</td>\n",
       "      <td>51.196684</td>\n",
       "      <td>51.258932</td>\n",
       "      <td>76072524</td>\n",
       "      <td>0.0</td>\n",
       "      <td>1.0</td>\n",
       "    </tr>\n",
       "    <tr>\n",
       "      <th>3</th>\n",
       "      <td>3</td>\n",
       "      <td>AAPL</td>\n",
       "      <td>2018-08-23 00:00:00+00:00</td>\n",
       "      <td>215.49</td>\n",
       "      <td>217.05</td>\n",
       "      <td>214.60</td>\n",
       "      <td>214.65</td>\n",
       "      <td>18883224</td>\n",
       "      <td>51.591720</td>\n",
       "      <td>51.965209</td>\n",
       "      <td>51.378640</td>\n",
       "      <td>51.390611</td>\n",
       "      <td>75532896</td>\n",
       "      <td>0.0</td>\n",
       "      <td>1.0</td>\n",
       "    </tr>\n",
       "    <tr>\n",
       "      <th>4</th>\n",
       "      <td>4</td>\n",
       "      <td>AAPL</td>\n",
       "      <td>2018-08-24 00:00:00+00:00</td>\n",
       "      <td>216.16</td>\n",
       "      <td>216.90</td>\n",
       "      <td>215.11</td>\n",
       "      <td>216.60</td>\n",
       "      <td>18476356</td>\n",
       "      <td>51.752129</td>\n",
       "      <td>51.929297</td>\n",
       "      <td>51.500742</td>\n",
       "      <td>51.857472</td>\n",
       "      <td>73905424</td>\n",
       "      <td>0.0</td>\n",
       "      <td>1.0</td>\n",
       "    </tr>\n",
       "  </tbody>\n",
       "</table>\n",
       "</div>"
      ],
      "text/plain": [
       "   Unnamed: 0 symbol                       date   close    high     low  \\\n",
       "0           0   AAPL  2018-08-20 00:00:00+00:00  215.46  219.18  215.11   \n",
       "1           1   AAPL  2018-08-21 00:00:00+00:00  215.04  217.19  214.03   \n",
       "2           2   AAPL  2018-08-22 00:00:00+00:00  215.05  216.36  213.84   \n",
       "3           3   AAPL  2018-08-23 00:00:00+00:00  215.49  217.05  214.60   \n",
       "4           4   AAPL  2018-08-24 00:00:00+00:00  216.16  216.90  215.11   \n",
       "\n",
       "     open    volume   adjClose    adjHigh     adjLow    adjOpen  adjVolume  \\\n",
       "0  218.10  30287695  51.584538  52.475165  51.500742  52.216596  121150780   \n",
       "1  216.80  26159755  51.483983  51.998727  51.242173  51.905355  104639020   \n",
       "2  214.10  19018131  51.486377  51.800012  51.196684  51.258932   76072524   \n",
       "3  214.65  18883224  51.591720  51.965209  51.378640  51.390611   75532896   \n",
       "4  216.60  18476356  51.752129  51.929297  51.500742  51.857472   73905424   \n",
       "\n",
       "   divCash  splitFactor  \n",
       "0      0.0          1.0  \n",
       "1      0.0          1.0  \n",
       "2      0.0          1.0  \n",
       "3      0.0          1.0  \n",
       "4      0.0          1.0  "
      ]
     },
     "execution_count": 6,
     "metadata": {},
     "output_type": "execute_result"
    }
   ],
   "source": [
    "df.head()"
   ]
  },
  {
   "cell_type": "code",
   "execution_count": 7,
   "metadata": {},
   "outputs": [
    {
     "data": {
      "text/html": [
       "<div>\n",
       "<style scoped>\n",
       "    .dataframe tbody tr th:only-of-type {\n",
       "        vertical-align: middle;\n",
       "    }\n",
       "\n",
       "    .dataframe tbody tr th {\n",
       "        vertical-align: top;\n",
       "    }\n",
       "\n",
       "    .dataframe thead th {\n",
       "        text-align: right;\n",
       "    }\n",
       "</style>\n",
       "<table border=\"1\" class=\"dataframe\">\n",
       "  <thead>\n",
       "    <tr style=\"text-align: right;\">\n",
       "      <th></th>\n",
       "      <th>Unnamed: 0</th>\n",
       "      <th>symbol</th>\n",
       "      <th>date</th>\n",
       "      <th>close</th>\n",
       "      <th>high</th>\n",
       "      <th>low</th>\n",
       "      <th>open</th>\n",
       "      <th>volume</th>\n",
       "      <th>adjClose</th>\n",
       "      <th>adjHigh</th>\n",
       "      <th>adjLow</th>\n",
       "      <th>adjOpen</th>\n",
       "      <th>adjVolume</th>\n",
       "      <th>divCash</th>\n",
       "      <th>splitFactor</th>\n",
       "    </tr>\n",
       "  </thead>\n",
       "  <tbody>\n",
       "    <tr>\n",
       "      <th>1253</th>\n",
       "      <td>1253</td>\n",
       "      <td>AAPL</td>\n",
       "      <td>2023-08-14 00:00:00+00:00</td>\n",
       "      <td>179.46</td>\n",
       "      <td>179.6900</td>\n",
       "      <td>177.305</td>\n",
       "      <td>177.97</td>\n",
       "      <td>43675627</td>\n",
       "      <td>179.46</td>\n",
       "      <td>179.6900</td>\n",
       "      <td>177.305</td>\n",
       "      <td>177.97</td>\n",
       "      <td>43675627</td>\n",
       "      <td>0.0</td>\n",
       "      <td>1.0</td>\n",
       "    </tr>\n",
       "    <tr>\n",
       "      <th>1254</th>\n",
       "      <td>1254</td>\n",
       "      <td>AAPL</td>\n",
       "      <td>2023-08-15 00:00:00+00:00</td>\n",
       "      <td>177.45</td>\n",
       "      <td>179.4800</td>\n",
       "      <td>177.050</td>\n",
       "      <td>178.88</td>\n",
       "      <td>43622593</td>\n",
       "      <td>177.45</td>\n",
       "      <td>179.4800</td>\n",
       "      <td>177.050</td>\n",
       "      <td>178.88</td>\n",
       "      <td>43622593</td>\n",
       "      <td>0.0</td>\n",
       "      <td>1.0</td>\n",
       "    </tr>\n",
       "    <tr>\n",
       "      <th>1255</th>\n",
       "      <td>1255</td>\n",
       "      <td>AAPL</td>\n",
       "      <td>2023-08-16 00:00:00+00:00</td>\n",
       "      <td>176.57</td>\n",
       "      <td>178.5400</td>\n",
       "      <td>176.500</td>\n",
       "      <td>177.13</td>\n",
       "      <td>46964857</td>\n",
       "      <td>176.57</td>\n",
       "      <td>178.5400</td>\n",
       "      <td>176.500</td>\n",
       "      <td>177.13</td>\n",
       "      <td>46964857</td>\n",
       "      <td>0.0</td>\n",
       "      <td>1.0</td>\n",
       "    </tr>\n",
       "    <tr>\n",
       "      <th>1256</th>\n",
       "      <td>1256</td>\n",
       "      <td>AAPL</td>\n",
       "      <td>2023-08-17 00:00:00+00:00</td>\n",
       "      <td>174.00</td>\n",
       "      <td>177.5054</td>\n",
       "      <td>173.480</td>\n",
       "      <td>177.14</td>\n",
       "      <td>66062882</td>\n",
       "      <td>174.00</td>\n",
       "      <td>177.5054</td>\n",
       "      <td>173.480</td>\n",
       "      <td>177.14</td>\n",
       "      <td>66062882</td>\n",
       "      <td>0.0</td>\n",
       "      <td>1.0</td>\n",
       "    </tr>\n",
       "    <tr>\n",
       "      <th>1257</th>\n",
       "      <td>1257</td>\n",
       "      <td>AAPL</td>\n",
       "      <td>2023-08-18 00:00:00+00:00</td>\n",
       "      <td>174.49</td>\n",
       "      <td>175.1000</td>\n",
       "      <td>171.960</td>\n",
       "      <td>172.30</td>\n",
       "      <td>61172150</td>\n",
       "      <td>174.49</td>\n",
       "      <td>175.1000</td>\n",
       "      <td>171.960</td>\n",
       "      <td>172.30</td>\n",
       "      <td>61172150</td>\n",
       "      <td>0.0</td>\n",
       "      <td>1.0</td>\n",
       "    </tr>\n",
       "  </tbody>\n",
       "</table>\n",
       "</div>"
      ],
      "text/plain": [
       "      Unnamed: 0 symbol                       date   close      high      low  \\\n",
       "1253        1253   AAPL  2023-08-14 00:00:00+00:00  179.46  179.6900  177.305   \n",
       "1254        1254   AAPL  2023-08-15 00:00:00+00:00  177.45  179.4800  177.050   \n",
       "1255        1255   AAPL  2023-08-16 00:00:00+00:00  176.57  178.5400  176.500   \n",
       "1256        1256   AAPL  2023-08-17 00:00:00+00:00  174.00  177.5054  173.480   \n",
       "1257        1257   AAPL  2023-08-18 00:00:00+00:00  174.49  175.1000  171.960   \n",
       "\n",
       "        open    volume  adjClose   adjHigh   adjLow  adjOpen  adjVolume  \\\n",
       "1253  177.97  43675627    179.46  179.6900  177.305   177.97   43675627   \n",
       "1254  178.88  43622593    177.45  179.4800  177.050   178.88   43622593   \n",
       "1255  177.13  46964857    176.57  178.5400  176.500   177.13   46964857   \n",
       "1256  177.14  66062882    174.00  177.5054  173.480   177.14   66062882   \n",
       "1257  172.30  61172150    174.49  175.1000  171.960   172.30   61172150   \n",
       "\n",
       "      divCash  splitFactor  \n",
       "1253      0.0          1.0  \n",
       "1254      0.0          1.0  \n",
       "1255      0.0          1.0  \n",
       "1256      0.0          1.0  \n",
       "1257      0.0          1.0  "
      ]
     },
     "execution_count": 7,
     "metadata": {},
     "output_type": "execute_result"
    }
   ],
   "source": [
    "df.tail()"
   ]
  },
  {
   "cell_type": "code",
   "execution_count": 8,
   "metadata": {},
   "outputs": [],
   "source": [
    "df1=df.reset_index()['close']"
   ]
  },
  {
   "cell_type": "code",
   "execution_count": 9,
   "metadata": {},
   "outputs": [
    {
     "data": {
      "text/plain": [
       "0       215.46\n",
       "1       215.04\n",
       "2       215.05\n",
       "3       215.49\n",
       "4       216.16\n",
       "         ...  \n",
       "1253    179.46\n",
       "1254    177.45\n",
       "1255    176.57\n",
       "1256    174.00\n",
       "1257    174.49\n",
       "Name: close, Length: 1258, dtype: float64"
      ]
     },
     "execution_count": 9,
     "metadata": {},
     "output_type": "execute_result"
    }
   ],
   "source": [
    "df1"
   ]
  },
  {
   "cell_type": "markdown",
   "metadata": {},
   "source": []
  },
  {
   "cell_type": "code",
   "execution_count": 10,
   "metadata": {},
   "outputs": [
    {
     "data": {
      "text/plain": [
       "[<matplotlib.lines.Line2D at 0x7f99b970a390>]"
      ]
     },
     "execution_count": 10,
     "metadata": {},
     "output_type": "execute_result"
    },
    {
     "data": {
      "image/png": "[encoded data removed]",
      "text/plain": [
       "<Figure size 640x480 with 1 Axes>"
      ]
     },
     "metadata": {},
     "output_type": "display_data"
    }
   ],
   "source": [
    "import matplotlib.pyplot as plt\n",
    "plt.plot(df1)"
   ]
  },
  {
   "cell_type": "code",
   "execution_count": 11,
   "metadata": {},
   "outputs": [
    {
     "data": {
      "text/plain": [
       "(1258,)"
      ]
     },
     "execution_count": 11,
     "metadata": {},
     "output_type": "execute_result"
    }
   ],
   "source": [
    "df1.shape"
   ]
  },
  {
   "cell_type": "code",
   "execution_count": 12,
   "metadata": {},
   "outputs": [],
   "source": [
    "from sklearn.preprocessing import MinMaxScaler\n",
    "sc=MinMaxScaler(feature_range=(0,1))\n",
    "df1=sc.fit_transform(np.array(df1).reshape(-1,1))"
   ]
  },
  {
   "cell_type": "code",
   "execution_count": 13,
   "metadata": {},
   "outputs": [
    {
     "name": "stdout",
     "output_type": "stream",
     "text": [
      "[[0.27206011]\n",
      " [0.27100814]\n",
      " [0.27103319]\n",
      " ...\n",
      " [0.17465247]\n",
      " [0.1682154 ]\n",
      " [0.16944271]]\n"
     ]
    }
   ],
   "source": [
    "print(df1)"
   ]
  },
  {
   "cell_type": "code",
   "execution_count": 14,
   "metadata": {},
   "outputs": [],
   "source": [
    "training_size=int(len(df1)*0.65)\n",
    "test_size=len(df1)-training_size\n",
    "train_data,test_data=df1[0:training_size,:],df1[training_size:,:1]"
   ]
  },
  {
   "cell_type": "code",
   "execution_count": 15,
   "metadata": {},
   "outputs": [
    {
     "data": {
      "text/plain": [
       "(817, 441)"
      ]
     },
     "execution_count": 15,
     "metadata": {},
     "output_type": "execute_result"
    }
   ],
   "source": [
    "training_size,test_size"
   ]
  },
  {
   "cell_type": "code",
   "execution_count": 16,
   "metadata": {},
   "outputs": [],
   "source": [
    "def create_dataset(dataset, time_step=1):\n",
    "\tdataX, dataY = [], []\n",
    "\tfor i in range(len(dataset)-time_step-1):\n",
    "\t\ta = dataset[i:(i+time_step), 0]    \n",
    "\t\tdataX.append(a)\n",
    "\t\tdataY.append(dataset[i + time_step, 0])\n",
    "\treturn np.array(dataX), np.array(dataY)"
   ]
  },
  {
   "cell_type": "code",
   "execution_count": 17,
   "metadata": {},
   "outputs": [],
   "source": [
    "time_step=100\n",
    "X_train,y_train=create_dataset(train_data,time_step)\n",
    "X_test,y_test=create_dataset(test_data,time_step)"
   ]
  },
  {
   "cell_type": "code",
   "execution_count": 18,
   "metadata": {},
   "outputs": [
    {
     "name": "stdout",
     "output_type": "stream",
     "text": [
      "[[0.27206011 0.27100814 0.27103319 ... 0.11639324 0.11762054 0.11383845]\n",
      " [0.27100814 0.27103319 0.27213525 ... 0.11762054 0.11383845 0.10810269]\n",
      " [0.27103319 0.27213525 0.2738134  ... 0.11383845 0.10810269 0.11579211]\n",
      " ...\n",
      " [0.06376957 0.06797746 0.06727614 ... 0.1113087  0.10920476 0.1101315 ]\n",
      " [0.06797746 0.06727614 0.06654978 ... 0.10920476 0.1101315  0.10289292]\n",
      " [0.06727614 0.06654978 0.06579837 ... 0.1101315  0.10289292 0.10276769]]\n"
     ]
    }
   ],
   "source": [
    "print(X_train)"
   ]
  },
  {
   "cell_type": "code",
   "execution_count": 19,
   "metadata": {},
   "outputs": [
    {
     "name": "stdout",
     "output_type": "stream",
     "text": [
      "(716, 100)\n"
     ]
    }
   ],
   "source": [
    "print(X_train.shape)"
   ]
  },
  {
   "cell_type": "code",
   "execution_count": 20,
   "metadata": {},
   "outputs": [],
   "source": [
    "X_train=X_train.reshape(X_train.shape[0],X_train.shape[1],1)\n",
    "X_test=X_test.reshape(X_test.shape[0],X_test.shape[1],1)"
   ]
  },
  {
   "cell_type": "code",
   "execution_count": 21,
   "metadata": {},
   "outputs": [
    {
     "name": "stderr",
     "output_type": "stream",
     "text": [
      "2023-09-04 15:48:48.658828: I tensorflow/tsl/cuda/cudart_stub.cc:28] Could not find cuda drivers on your machine, GPU will not be used.\n",
      "2023-09-04 15:48:48.719274: I tensorflow/tsl/cuda/cudart_stub.cc:28] Could not find cuda drivers on your machine, GPU will not be used.\n",
      "2023-09-04 15:48:48.720089: I tensorflow/core/platform/cpu_feature_guard.cc:182] This TensorFlow binary is optimized to use available CPU instructions in performance-critical operations.\n",
      "To enable the following instructions: AVX2 FMA, in other operations, rebuild TensorFlow with the appropriate compiler flags.\n",
      "2023-09-04 15:48:49.521263: W tensorflow/compiler/tf2tensorrt/utils/py_utils.cc:38] TF-TRT Warning: Could not find TensorRT\n"
     ]
    }
   ],
   "source": [
    "from tensorflow.keras.models import Sequential\n",
    "from tensorflow.keras.layers import Dense, LSTM"
   ]
  },
  {
   "cell_type": "code",
   "execution_count": 22,
   "metadata": {},
   "outputs": [],
   "source": [
    "model=Sequential()\n",
    "model.add(LSTM(50,return_sequences=True,input_shape=(100,1)))\n",
    "model.add(LSTM(50,return_sequences=True))\n",
    "model.add(LSTM(50))\n",
    "model.add(Dense(1))\n",
    "model.compile(loss='mean_squared_error',optimizer='adam')"
   ]
  },
  {
   "cell_type": "code",
   "execution_count": 23,
   "metadata": {},
   "outputs": [
    {
     "name": "stdout",
     "output_type": "stream",
     "text": [
      "Model: \"sequential\"\n",
      "_________________________________________________________________\n",
      " Layer (type)                Output Shape              Param #   \n",
      "=================================================================\n",
      " lstm (LSTM)                 (None, 100, 50)           10400     \n",
      "                                                                 \n",
      " lstm_1 (LSTM)               (None, 100, 50)           20200     \n",
      "                                                                 \n",
      " lstm_2 (LSTM)               (None, 50)                20200     \n",
      "                                                                 \n",
      " dense (Dense)               (None, 1)                 51        \n",
      "                                                                 \n",
      "=================================================================\n",
      "Total params: 50851 (198.64 KB)\n",
      "Trainable params: 50851 (198.64 KB)\n",
      "Non-trainable params: 0 (0.00 Byte)\n",
      "_________________________________________________________________\n"
     ]
    }
   ],
   "source": [
    "model.summary()"
   ]
  },
  {
   "cell_type": "code",
   "execution_count": 24,
   "metadata": {},
   "outputs": [
    {
     "name": "stdout",
     "output_type": "stream",
     "text": [
      "Epoch 1/100\n",
      "12/12 [==============================] - 7s 207ms/step - loss: 0.0296 - val_loss: 6.5739e-04\n",
      "Epoch 2/100\n",
      "12/12 [==============================] - 1s 106ms/step - loss: 0.0131 - val_loss: 0.0026\n",
      "Epoch 3/100\n",
      "12/12 [==============================] - 1s 105ms/step - loss: 0.0096 - val_loss: 4.6211e-04\n",
      "Epoch 4/100\n",
      "12/12 [==============================] - 1s 106ms/step - loss: 0.0086 - val_loss: 3.0929e-04\n",
      "Epoch 5/100\n",
      "12/12 [==============================] - 1s 104ms/step - loss: 0.0076 - val_loss: 0.0013\n",
      "Epoch 6/100\n",
      "12/12 [==============================] - 1s 104ms/step - loss: 0.0066 - val_loss: 9.8116e-04\n",
      "Epoch 7/100\n",
      "12/12 [==============================] - 1s 104ms/step - loss: 0.0056 - val_loss: 2.7224e-04\n",
      "Epoch 8/100\n",
      "12/12 [==============================] - 1s 107ms/step - loss: 0.0065 - val_loss: 3.6513e-04\n",
      "Epoch 9/100\n",
      "12/12 [==============================] - 1s 105ms/step - loss: 0.0057 - val_loss: 3.4661e-04\n",
      "Epoch 10/100\n",
      "12/12 [==============================] - 1s 102ms/step - loss: 0.0049 - val_loss: 2.7773e-04\n",
      "Epoch 11/100\n",
      "12/12 [==============================] - 1s 91ms/step - loss: 0.0047 - val_loss: 4.5554e-04\n",
      "Epoch 12/100\n",
      "12/12 [==============================] - 1s 92ms/step - loss: 0.0047 - val_loss: 3.1768e-04\n",
      "Epoch 13/100\n",
      "12/12 [==============================] - 1s 93ms/step - loss: 0.0031 - val_loss: 2.9999e-04\n",
      "Epoch 14/100\n",
      "12/12 [==============================] - 1s 93ms/step - loss: 0.0022 - val_loss: 2.6876e-04\n",
      "Epoch 15/100\n",
      "12/12 [==============================] - 1s 94ms/step - loss: 0.0021 - val_loss: 3.4707e-04\n",
      "Epoch 16/100\n",
      "12/12 [==============================] - 1s 93ms/step - loss: 0.0039 - val_loss: 4.8511e-04\n",
      "Epoch 17/100\n",
      "12/12 [==============================] - 1s 94ms/step - loss: 0.0034 - val_loss: 3.0923e-04\n",
      "Epoch 18/100\n",
      "12/12 [==============================] - 1s 93ms/step - loss: 0.0028 - val_loss: 2.6033e-04\n",
      "Epoch 19/100\n",
      "12/12 [==============================] - 1s 93ms/step - loss: 0.0027 - val_loss: 2.2625e-04\n",
      "Epoch 20/100\n",
      "12/12 [==============================] - 1s 93ms/step - loss: 0.0030 - val_loss: 7.7881e-04\n",
      "Epoch 21/100\n",
      "12/12 [==============================] - 1s 92ms/step - loss: 0.0023 - val_loss: 4.0073e-04\n",
      "Epoch 22/100\n",
      "12/12 [==============================] - 1s 94ms/step - loss: 0.0024 - val_loss: 2.6920e-04\n",
      "Epoch 23/100\n",
      "12/12 [==============================] - 1s 93ms/step - loss: 0.0029 - val_loss: 0.0010\n",
      "Epoch 24/100\n",
      "12/12 [==============================] - 1s 94ms/step - loss: 0.0047 - val_loss: 2.7416e-04\n",
      "Epoch 25/100\n",
      "12/12 [==============================] - 1s 95ms/step - loss: 0.0034 - val_loss: 6.8806e-04\n",
      "Epoch 26/100\n",
      "12/12 [==============================] - 1s 96ms/step - loss: 0.0022 - val_loss: 2.6813e-04\n",
      "Epoch 27/100\n",
      "12/12 [==============================] - 1s 99ms/step - loss: 0.0025 - val_loss: 2.9159e-04\n",
      "Epoch 28/100\n",
      "12/12 [==============================] - 1s 98ms/step - loss: 0.0025 - val_loss: 5.4360e-04\n",
      "Epoch 29/100\n",
      "12/12 [==============================] - 1s 99ms/step - loss: 0.0021 - val_loss: 3.9252e-04\n",
      "Epoch 30/100\n",
      "12/12 [==============================] - 1s 98ms/step - loss: 0.0019 - val_loss: 2.7496e-04\n",
      "Epoch 31/100\n",
      "12/12 [==============================] - 1s 95ms/step - loss: 0.0017 - val_loss: 2.2667e-04\n",
      "Epoch 32/100\n",
      "12/12 [==============================] - 1s 94ms/step - loss: 0.0017 - val_loss: 2.3103e-04\n",
      "Epoch 33/100\n",
      "12/12 [==============================] - 1s 94ms/step - loss: 0.0017 - val_loss: 2.5536e-04\n",
      "Epoch 34/100\n",
      "12/12 [==============================] - 1s 95ms/step - loss: 0.0020 - val_loss: 5.6459e-04\n",
      "Epoch 35/100\n",
      "12/12 [==============================] - 1s 97ms/step - loss: 0.0017 - val_loss: 2.3569e-04\n",
      "Epoch 36/100\n",
      "12/12 [==============================] - 1s 95ms/step - loss: 0.0038 - val_loss: 2.3544e-04\n",
      "Epoch 37/100\n",
      "12/12 [==============================] - 1s 96ms/step - loss: 0.0041 - val_loss: 2.5038e-04\n",
      "Epoch 38/100\n",
      "12/12 [==============================] - 1s 95ms/step - loss: 0.0045 - val_loss: 4.2416e-04\n",
      "Epoch 39/100\n",
      "12/12 [==============================] - 1s 95ms/step - loss: 0.0032 - val_loss: 4.0615e-04\n",
      "Epoch 40/100\n",
      "12/12 [==============================] - 1s 109ms/step - loss: 0.0024 - val_loss: 2.2561e-04\n",
      "Epoch 41/100\n",
      "12/12 [==============================] - 1s 99ms/step - loss: 0.0022 - val_loss: 2.3704e-04\n",
      "Epoch 42/100\n",
      "12/12 [==============================] - 1s 99ms/step - loss: 0.0027 - val_loss: 6.1131e-04\n",
      "Epoch 43/100\n",
      "12/12 [==============================] - 1s 98ms/step - loss: 0.0019 - val_loss: 2.5045e-04\n",
      "Epoch 44/100\n",
      "12/12 [==============================] - 1s 98ms/step - loss: 0.0018 - val_loss: 2.8709e-04\n",
      "Epoch 45/100\n",
      "12/12 [==============================] - 1s 99ms/step - loss: 0.0019 - val_loss: 3.3742e-04\n",
      "Epoch 46/100\n",
      "12/12 [==============================] - 1s 94ms/step - loss: 0.0015 - val_loss: 2.3452e-04\n",
      "Epoch 47/100\n",
      "12/12 [==============================] - 1s 96ms/step - loss: 0.0014 - val_loss: 2.3517e-04\n",
      "Epoch 48/100\n",
      "12/12 [==============================] - 1s 95ms/step - loss: 0.0019 - val_loss: 2.4181e-04\n",
      "Epoch 49/100\n",
      "12/12 [==============================] - 1s 96ms/step - loss: 0.0015 - val_loss: 2.6918e-04\n",
      "Epoch 50/100\n",
      "12/12 [==============================] - 1s 98ms/step - loss: 0.0017 - val_loss: 2.3514e-04\n",
      "Epoch 51/100\n",
      "12/12 [==============================] - 1s 96ms/step - loss: 0.0017 - val_loss: 2.4551e-04\n",
      "Epoch 52/100\n",
      "12/12 [==============================] - 1s 96ms/step - loss: 0.0015 - val_loss: 2.3449e-04\n",
      "Epoch 53/100\n",
      "12/12 [==============================] - 1s 96ms/step - loss: 0.0017 - val_loss: 2.9598e-04\n",
      "Epoch 54/100\n",
      "12/12 [==============================] - 1s 97ms/step - loss: 0.0016 - val_loss: 2.4637e-04\n",
      "Epoch 55/100\n",
      "12/12 [==============================] - 1s 94ms/step - loss: 0.0018 - val_loss: 2.5407e-04\n",
      "Epoch 56/100\n",
      "12/12 [==============================] - 1s 93ms/step - loss: 0.0016 - val_loss: 2.6694e-04\n",
      "Epoch 57/100\n",
      "12/12 [==============================] - 1s 95ms/step - loss: 0.0019 - val_loss: 2.6350e-04\n",
      "Epoch 58/100\n",
      "12/12 [==============================] - 1s 96ms/step - loss: 0.0018 - val_loss: 2.8015e-04\n",
      "Epoch 59/100\n",
      "12/12 [==============================] - 1s 97ms/step - loss: 0.0017 - val_loss: 2.5873e-04\n",
      "Epoch 60/100\n",
      "12/12 [==============================] - 1s 96ms/step - loss: 0.0043 - val_loss: 2.8834e-04\n",
      "Epoch 61/100\n",
      "12/12 [==============================] - 1s 96ms/step - loss: 0.0044 - val_loss: 0.0013\n",
      "Epoch 62/100\n",
      "12/12 [==============================] - 1s 96ms/step - loss: 0.0029 - val_loss: 2.3489e-04\n",
      "Epoch 63/100\n",
      "12/12 [==============================] - 1s 98ms/step - loss: 0.0018 - val_loss: 2.5657e-04\n",
      "Epoch 64/100\n",
      "12/12 [==============================] - 1s 98ms/step - loss: 0.0016 - val_loss: 2.3357e-04\n",
      "Epoch 65/100\n",
      "12/12 [==============================] - 1s 98ms/step - loss: 0.0019 - val_loss: 2.2572e-04\n",
      "Epoch 66/100\n",
      "12/12 [==============================] - 1s 98ms/step - loss: 0.0015 - val_loss: 2.2647e-04\n",
      "Epoch 67/100\n",
      "12/12 [==============================] - 1s 100ms/step - loss: 0.0022 - val_loss: 2.2404e-04\n",
      "Epoch 68/100\n",
      "12/12 [==============================] - 1s 98ms/step - loss: 0.0048 - val_loss: 2.5969e-04\n",
      "Epoch 69/100\n",
      "12/12 [==============================] - 1s 96ms/step - loss: 0.0049 - val_loss: 2.4448e-04\n",
      "Epoch 70/100\n",
      "12/12 [==============================] - 1s 96ms/step - loss: 0.0037 - val_loss: 2.4318e-04\n",
      "Epoch 71/100\n",
      "12/12 [==============================] - 1s 94ms/step - loss: 0.0037 - val_loss: 2.5151e-04\n",
      "Epoch 72/100\n",
      "12/12 [==============================] - 1s 96ms/step - loss: 0.0030 - val_loss: 2.0043e-04\n",
      "Epoch 73/100\n",
      "12/12 [==============================] - 1s 94ms/step - loss: 0.0028 - val_loss: 2.8359e-04\n",
      "Epoch 74/100\n",
      "12/12 [==============================] - 1s 94ms/step - loss: 0.0025 - val_loss: 2.2769e-04\n",
      "Epoch 75/100\n",
      "12/12 [==============================] - 1s 95ms/step - loss: 0.0024 - val_loss: 2.8282e-04\n",
      "Epoch 76/100\n",
      "12/12 [==============================] - 1s 96ms/step - loss: 0.0022 - val_loss: 2.5238e-04\n",
      "Epoch 77/100\n",
      "12/12 [==============================] - 1s 95ms/step - loss: 0.0022 - val_loss: 3.1203e-04\n",
      "Epoch 78/100\n",
      "12/12 [==============================] - 1s 96ms/step - loss: 0.0019 - val_loss: 3.1044e-04\n",
      "Epoch 79/100\n",
      "12/12 [==============================] - 1s 96ms/step - loss: 0.0016 - val_loss: 2.0696e-04\n",
      "Epoch 80/100\n",
      "12/12 [==============================] - 1s 98ms/step - loss: 0.0014 - val_loss: 2.1043e-04\n",
      "Epoch 81/100\n",
      "12/12 [==============================] - 1s 96ms/step - loss: 0.0015 - val_loss: 2.6443e-04\n",
      "Epoch 82/100\n",
      "12/12 [==============================] - 1s 96ms/step - loss: 0.0014 - val_loss: 2.2311e-04\n",
      "Epoch 83/100\n",
      "12/12 [==============================] - 1s 94ms/step - loss: 0.0017 - val_loss: 2.2746e-04\n",
      "Epoch 84/100\n",
      "12/12 [==============================] - 1s 96ms/step - loss: 0.0014 - val_loss: 2.3113e-04\n",
      "Epoch 85/100\n",
      "12/12 [==============================] - 1s 96ms/step - loss: 0.0015 - val_loss: 2.1787e-04\n",
      "Epoch 86/100\n",
      "12/12 [==============================] - 1s 96ms/step - loss: 0.0017 - val_loss: 2.2355e-04\n",
      "Epoch 87/100\n",
      "12/12 [==============================] - 1s 95ms/step - loss: 0.0013 - val_loss: 2.4063e-04\n",
      "Epoch 88/100\n",
      "12/12 [==============================] - 1s 96ms/step - loss: 0.0014 - val_loss: 3.4822e-04\n",
      "Epoch 89/100\n",
      "12/12 [==============================] - 1s 94ms/step - loss: 0.0014 - val_loss: 2.8428e-04\n",
      "Epoch 90/100\n",
      "12/12 [==============================] - 1s 94ms/step - loss: 0.0052 - val_loss: 2.1011e-04\n",
      "Epoch 91/100\n",
      "12/12 [==============================] - 1s 95ms/step - loss: 0.0033 - val_loss: 2.3563e-04\n",
      "Epoch 92/100\n",
      "12/12 [==============================] - 1s 96ms/step - loss: 0.0027 - val_loss: 3.1564e-04\n",
      "Epoch 93/100\n",
      "12/12 [==============================] - 1s 96ms/step - loss: 0.0024 - val_loss: 2.1883e-04\n",
      "Epoch 94/100\n",
      "12/12 [==============================] - 1s 97ms/step - loss: 0.0025 - val_loss: 5.7021e-04\n",
      "Epoch 95/100\n",
      "12/12 [==============================] - 1s 96ms/step - loss: 0.0022 - val_loss: 2.0428e-04\n",
      "Epoch 96/100\n",
      "12/12 [==============================] - 1s 98ms/step - loss: 0.0018 - val_loss: 2.0081e-04\n",
      "Epoch 97/100\n",
      "12/12 [==============================] - 1s 98ms/step - loss: 0.0018 - val_loss: 3.8529e-04\n",
      "Epoch 98/100\n",
      "12/12 [==============================] - 1s 98ms/step - loss: 0.0020 - val_loss: 3.8358e-04\n",
      "Epoch 99/100\n",
      "12/12 [==============================] - 1s 96ms/step - loss: 0.0015 - val_loss: 4.2843e-04\n",
      "Epoch 100/100\n",
      "12/12 [==============================] - 1s 96ms/step - loss: 0.0015 - val_loss: 2.7648e-04\n"
     ]
    },
    {
     "data": {
      "text/plain": [
       "<keras.src.callbacks.History at 0x7f99783ec350>"
      ]
     },
     "execution_count": 24,
     "metadata": {},
     "output_type": "execute_result"
    }
   ],
   "source": [
    "model.fit(X_train,y_train,validation_data=(X_test,y_test),epochs=100,batch_size=64,verbose=1)"
   ]
  },
  {
   "cell_type": "code",
   "execution_count": 31,
   "metadata": {},
   "outputs": [
    {
     "name": "stdout",
     "output_type": "stream",
     "text": [
      "23/23 [==============================] - 0s 21ms/step\n",
      "11/11 [==============================] - 0s 23ms/step\n"
     ]
    }
   ],
   "source": [
    "train_predict=model.predict(X_train)\n",
    "test_predict=model.predict(X_test)"
   ]
  },
  {
   "cell_type": "code",
   "execution_count": 32,
   "metadata": {},
   "outputs": [],
   "source": [
    "#transforming into original one\n",
    "train_predict=sc.inverse_transform(train_predict)\n",
    "test_predict=sc.inverse_transform(test_predict)"
   ]
  },
  {
   "cell_type": "code",
   "execution_count": 27,
   "metadata": {},
   "outputs": [
    {
     "data": {
      "text/plain": [
       "224.70118381323653"
      ]
     },
     "execution_count": 27,
     "metadata": {},
     "output_type": "execute_result"
    }
   ],
   "source": [
    "from sklearn.metrics import mean_squared_error\n",
    "math.sqrt(mean_squared_error(y_train,train_predict))"
   ]
  },
  {
   "cell_type": "code",
   "execution_count": 28,
   "metadata": {},
   "outputs": [
    {
     "data": {
      "text/plain": [
       "161.79430719483483"
      ]
     },
     "execution_count": 28,
     "metadata": {},
     "output_type": "execute_result"
    }
   ],
   "source": [
    "math.sqrt(mean_squared_error(y_test,test_predict))"
   ]
  },
  {
   "cell_type": "code",
   "execution_count": 34,
   "metadata": {},
   "outputs": [
    {
     "data": {
      "image/png": "[encoded data removed]",
      "text/plain": [
       "<Figure size 640x480 with 1 Axes>"
      ]
     },
     "metadata": {},
     "output_type": "display_data"
    }
   ],
   "source": [
    "### Plotting \n",
    "# shift train predictions for plotting\n",
    "look_back=100\n",
    "trainPredictPlot = np.empty_like(df1)\n",
    "trainPredictPlot[:, :] = np.nan\n",
    "trainPredictPlot[look_back:len(train_predict)+look_back, :] = train_predict\n",
    "# shift test predictions for plotting\n",
    "testPredictPlot = np.empty_like(df1)\n",
    "testPredictPlot[:, :] = np.nan\n",
    "testPredictPlot[len(train_predict)+(look_back*2)+1:len(df1)-1, :] = test_predict\n",
    "# plot baseline and predictions\n",
    "plt.plot(sc.inverse_transform(df1))\n",
    "plt.plot(trainPredictPlot)\n",
    "plt.plot(testPredictPlot)\n",
    "plt.show()"
   ]
  },
  {
   "cell_type": "markdown",
   "metadata": {},
   "source": [
    "Predicting the future 30 days output"
   ]
  },
  {
   "cell_type": "code",
   "execution_count": 35,
   "metadata": {},
   "outputs": [
    {
     "data": {
      "text/plain": [
       "441"
      ]
     },
     "execution_count": 35,
     "metadata": {},
     "output_type": "execute_result"
    }
   ],
   "source": [
    "len(test_data)"
   ]
  },
  {
   "cell_type": "code",
   "execution_count": 51,
   "metadata": {},
   "outputs": [
    {
     "data": {
      "text/plain": [
       "(1, 100)"
      ]
     },
     "execution_count": 51,
     "metadata": {},
     "output_type": "execute_result"
    }
   ],
   "source": [
    "x_input=test_data[341:].reshape(1,-1)\n",
    "x_input.shape"
   ]
  },
  {
   "cell_type": "code",
   "execution_count": 52,
   "metadata": {},
   "outputs": [],
   "source": [
    "temp_input=list(x_input)\n",
    "temp_input=temp_input[0].tolist()"
   ]
  },
  {
   "cell_type": "code",
   "execution_count": 53,
   "metadata": {},
   "outputs": [
    {
     "data": {
      "text/plain": [
       "[0.12726361928616153,\n",
       " 0.13507827175954912,\n",
       " 0.13906073888541015,\n",
       " 0.1454226675015654,\n",
       " 0.14860363180964303,\n",
       " 0.14725109580463364,\n",
       " 0.14256731371321218,\n",
       " 0.14482154038822787,\n",
       " 0.13823418910457103,\n",
       " 0.13515341264871633,\n",
       " 0.1334001252348152,\n",
       " 0.14707576706324355,\n",
       " 0.14619912335629304,\n",
       " 0.14624921728240442,\n",
       " 0.14935504070131495,\n",
       " 0.15226048841577955,\n",
       " 0.14980588603631806,\n",
       " 0.14572323105823415,\n",
       " 0.14649968691296178,\n",
       " 0.14259236067626796,\n",
       " 0.14256731371321218,\n",
       " 0.15421415153412643,\n",
       " 0.15739511584220411,\n",
       " 0.15716969317470253,\n",
       " 0.1545397620538509,\n",
       " 0.15180964308077638,\n",
       " 0.1476518472135253,\n",
       " 0.16713838447088286,\n",
       " 0.16696305572949277,\n",
       " 0.16262993112085156,\n",
       " 0.16710081402629928,\n",
       " 0.16758922980588598,\n",
       " 0.16463368816530988,\n",
       " 0.1633813400125234,\n",
       " 0.1633813400125234,\n",
       " 0.16493425172197868,\n",
       " 0.17084533500313087,\n",
       " 0.17112085159674384,\n",
       " 0.1687163431433938,\n",
       " 0.16210394489668123,\n",
       " 0.16280525986224165,\n",
       " 0.1656856606136506,\n",
       " 0.17179711959924854,\n",
       " 0.17648090169067,\n",
       " 0.17635566687539134,\n",
       " 0.1834690043832185,\n",
       " 0.1856230432060112,\n",
       " 0.18219160926737632,\n",
       " 0.18126487163431432,\n",
       " 0.1777833437695679,\n",
       " 0.18467125860989347,\n",
       " 0.18564809016906697,\n",
       " 0.19273638071383836,\n",
       " 0.1915341264871634,\n",
       " 0.19313713212273004,\n",
       " 0.19829680651221032,\n",
       " 0.1955666875391358,\n",
       " 0.1957921102066374,\n",
       " 0.1931621790857858,\n",
       " 0.2007764558547276,\n",
       " 0.19997495303694424,\n",
       " 0.19644333124608637,\n",
       " 0.2034314339386349,\n",
       " 0.2064120225422667,\n",
       " 0.2072636192861615,\n",
       " 0.21823418910457104,\n",
       " 0.21445209768315587,\n",
       " 0.21162179085785848,\n",
       " 0.21282404508453345,\n",
       " 0.20999373825923606,\n",
       " 0.20480901690670006,\n",
       " 0.20348152786474638,\n",
       " 0.20771446462116466,\n",
       " 0.20964308077645577,\n",
       " 0.21001878522229173,\n",
       " 0.21828428303068248,\n",
       " 0.2176330619912335,\n",
       " 0.22106449592986843,\n",
       " 0.21613024420788973,\n",
       " 0.21314965560425791,\n",
       " 0.215178459611772,\n",
       " 0.21735754539762048,\n",
       " 0.21956167814652466,\n",
       " 0.21635566687539132,\n",
       " 0.22289292423293672,\n",
       " 0.22444583594239192,\n",
       " 0.22232936756418276,\n",
       " 0.21475266123982467,\n",
       " 0.21122103944896675,\n",
       " 0.1882279273638071,\n",
       " 0.18036318096430803,\n",
       " 0.18274264245460237,\n",
       " 0.1787100814026299,\n",
       " 0.17815904821540385,\n",
       " 0.17770820288040068,\n",
       " 0.18189104571070758,\n",
       " 0.1768566061365059,\n",
       " 0.1746524733876017,\n",
       " 0.16821540388227924,\n",
       " 0.16944270507200998]"
      ]
     },
     "execution_count": 53,
     "metadata": {},
     "output_type": "execute_result"
    }
   ],
   "source": [
    "temp_input"
   ]
  },
  {
   "cell_type": "code",
   "execution_count": 54,
   "metadata": {},
   "outputs": [
    {
     "name": "stdout",
     "output_type": "stream",
     "text": [
      "[0.18693303]\n",
      "101\n",
      "1 day input [0.13507827 0.13906074 0.14542267 0.14860363 0.1472511  0.14256731\n",
      " 0.14482154 0.13823419 0.13515341 0.13340013 0.14707577 0.14619912\n",
      " 0.14624922 0.14935504 0.15226049 0.14980589 0.14572323 0.14649969\n",
      " 0.14259236 0.14256731 0.15421415 0.15739512 0.15716969 0.15453976\n",
      " 0.15180964 0.14765185 0.16713838 0.16696306 0.16262993 0.16710081\n",
      " 0.16758923 0.16463369 0.16338134 0.16338134 0.16493425 0.17084534\n",
      " 0.17112085 0.16871634 0.16210394 0.16280526 0.16568566 0.17179712\n",
      " 0.1764809  0.17635567 0.183469   0.18562304 0.18219161 0.18126487\n",
      " 0.17778334 0.18467126 0.18564809 0.19273638 0.19153413 0.19313713\n",
      " 0.19829681 0.19556669 0.19579211 0.19316218 0.20077646 0.19997495\n",
      " 0.19644333 0.20343143 0.20641202 0.20726362 0.21823419 0.2144521\n",
      " 0.21162179 0.21282405 0.20999374 0.20480902 0.20348153 0.20771446\n",
      " 0.20964308 0.21001879 0.21828428 0.21763306 0.2210645  0.21613024\n",
      " 0.21314966 0.21517846 0.21735755 0.21956168 0.21635567 0.22289292\n",
      " 0.22444584 0.22232937 0.21475266 0.21122104 0.18822793 0.18036318\n",
      " 0.18274264 0.17871008 0.17815905 0.1777082  0.18189105 0.17685661\n",
      " 0.17465247 0.1682154  0.16944271 0.18693303]\n",
      "1 day output [[0.18553965]]\n",
      "2 day input [0.13906074 0.14542267 0.14860363 0.1472511  0.14256731 0.14482154\n",
      " 0.13823419 0.13515341 0.13340013 0.14707577 0.14619912 0.14624922\n",
      " 0.14935504 0.15226049 0.14980589 0.14572323 0.14649969 0.14259236\n",
      " 0.14256731 0.15421415 0.15739512 0.15716969 0.15453976 0.15180964\n",
      " 0.14765185 0.16713838 0.16696306 0.16262993 0.16710081 0.16758923\n",
      " 0.16463369 0.16338134 0.16338134 0.16493425 0.17084534 0.17112085\n",
      " 0.16871634 0.16210394 0.16280526 0.16568566 0.17179712 0.1764809\n",
      " 0.17635567 0.183469   0.18562304 0.18219161 0.18126487 0.17778334\n",
      " 0.18467126 0.18564809 0.19273638 0.19153413 0.19313713 0.19829681\n",
      " 0.19556669 0.19579211 0.19316218 0.20077646 0.19997495 0.19644333\n",
      " 0.20343143 0.20641202 0.20726362 0.21823419 0.2144521  0.21162179\n",
      " 0.21282405 0.20999374 0.20480902 0.20348153 0.20771446 0.20964308\n",
      " 0.21001879 0.21828428 0.21763306 0.2210645  0.21613024 0.21314966\n",
      " 0.21517846 0.21735755 0.21956168 0.21635567 0.22289292 0.22444584\n",
      " 0.22232937 0.21475266 0.21122104 0.18822793 0.18036318 0.18274264\n",
      " 0.17871008 0.17815905 0.1777082  0.18189105 0.17685661 0.17465247\n",
      " 0.1682154  0.16944271 0.18693303 0.18553965]\n",
      "2 day output [[0.18514721]]\n",
      "3 day input [0.14542267 0.14860363 0.1472511  0.14256731 0.14482154 0.13823419\n",
      " 0.13515341 0.13340013 0.14707577 0.14619912 0.14624922 0.14935504\n",
      " 0.15226049 0.14980589 0.14572323 0.14649969 0.14259236 0.14256731\n",
      " 0.15421415 0.15739512 0.15716969 0.15453976 0.15180964 0.14765185\n",
      " 0.16713838 0.16696306 0.16262993 0.16710081 0.16758923 0.16463369\n",
      " 0.16338134 0.16338134 0.16493425 0.17084534 0.17112085 0.16871634\n",
      " 0.16210394 0.16280526 0.16568566 0.17179712 0.1764809  0.17635567\n",
      " 0.183469   0.18562304 0.18219161 0.18126487 0.17778334 0.18467126\n",
      " 0.18564809 0.19273638 0.19153413 0.19313713 0.19829681 0.19556669\n",
      " 0.19579211 0.19316218 0.20077646 0.19997495 0.19644333 0.20343143\n",
      " 0.20641202 0.20726362 0.21823419 0.2144521  0.21162179 0.21282405\n",
      " 0.20999374 0.20480902 0.20348153 0.20771446 0.20964308 0.21001879\n",
      " 0.21828428 0.21763306 0.2210645  0.21613024 0.21314966 0.21517846\n",
      " 0.21735755 0.21956168 0.21635567 0.22289292 0.22444584 0.22232937\n",
      " 0.21475266 0.21122104 0.18822793 0.18036318 0.18274264 0.17871008\n",
      " 0.17815905 0.1777082  0.18189105 0.17685661 0.17465247 0.1682154\n",
      " 0.16944271 0.18693303 0.18553965 0.18514721]\n",
      "3 day output [[0.18539856]]\n",
      "4 day input [0.14860363 0.1472511  0.14256731 0.14482154 0.13823419 0.13515341\n",
      " 0.13340013 0.14707577 0.14619912 0.14624922 0.14935504 0.15226049\n",
      " 0.14980589 0.14572323 0.14649969 0.14259236 0.14256731 0.15421415\n",
      " 0.15739512 0.15716969 0.15453976 0.15180964 0.14765185 0.16713838\n",
      " 0.16696306 0.16262993 0.16710081 0.16758923 0.16463369 0.16338134\n",
      " 0.16338134 0.16493425 0.17084534 0.17112085 0.16871634 0.16210394\n",
      " 0.16280526 0.16568566 0.17179712 0.1764809  0.17635567 0.183469\n",
      " 0.18562304 0.18219161 0.18126487 0.17778334 0.18467126 0.18564809\n",
      " 0.19273638 0.19153413 0.19313713 0.19829681 0.19556669 0.19579211\n",
      " 0.19316218 0.20077646 0.19997495 0.19644333 0.20343143 0.20641202\n",
      " 0.20726362 0.21823419 0.2144521  0.21162179 0.21282405 0.20999374\n",
      " 0.20480902 0.20348153 0.20771446 0.20964308 0.21001879 0.21828428\n",
      " 0.21763306 0.2210645  0.21613024 0.21314966 0.21517846 0.21735755\n",
      " 0.21956168 0.21635567 0.22289292 0.22444584 0.22232937 0.21475266\n",
      " 0.21122104 0.18822793 0.18036318 0.18274264 0.17871008 0.17815905\n",
      " 0.1777082  0.18189105 0.17685661 0.17465247 0.1682154  0.16944271\n",
      " 0.18693303 0.18553965 0.18514721 0.18539856]\n",
      "4 day output [[0.1859998]]\n",
      "5 day input [0.1472511  0.14256731 0.14482154 0.13823419 0.13515341 0.13340013\n",
      " 0.14707577 0.14619912 0.14624922 0.14935504 0.15226049 0.14980589\n",
      " 0.14572323 0.14649969 0.14259236 0.14256731 0.15421415 0.15739512\n",
      " 0.15716969 0.15453976 0.15180964 0.14765185 0.16713838 0.16696306\n",
      " 0.16262993 0.16710081 0.16758923 0.16463369 0.16338134 0.16338134\n",
      " 0.16493425 0.17084534 0.17112085 0.16871634 0.16210394 0.16280526\n",
      " 0.16568566 0.17179712 0.1764809  0.17635567 0.183469   0.18562304\n",
      " 0.18219161 0.18126487 0.17778334 0.18467126 0.18564809 0.19273638\n",
      " 0.19153413 0.19313713 0.19829681 0.19556669 0.19579211 0.19316218\n",
      " 0.20077646 0.19997495 0.19644333 0.20343143 0.20641202 0.20726362\n",
      " 0.21823419 0.2144521  0.21162179 0.21282405 0.20999374 0.20480902\n",
      " 0.20348153 0.20771446 0.20964308 0.21001879 0.21828428 0.21763306\n",
      " 0.2210645  0.21613024 0.21314966 0.21517846 0.21735755 0.21956168\n",
      " 0.21635567 0.22289292 0.22444584 0.22232937 0.21475266 0.21122104\n",
      " 0.18822793 0.18036318 0.18274264 0.17871008 0.17815905 0.1777082\n",
      " 0.18189105 0.17685661 0.17465247 0.1682154  0.16944271 0.18693303\n",
      " 0.18553965 0.18514721 0.18539856 0.1859998 ]\n",
      "5 day output [[0.18677169]]\n",
      "6 day input [0.14256731 0.14482154 0.13823419 0.13515341 0.13340013 0.14707577\n",
      " 0.14619912 0.14624922 0.14935504 0.15226049 0.14980589 0.14572323\n",
      " 0.14649969 0.14259236 0.14256731 0.15421415 0.15739512 0.15716969\n",
      " 0.15453976 0.15180964 0.14765185 0.16713838 0.16696306 0.16262993\n",
      " 0.16710081 0.16758923 0.16463369 0.16338134 0.16338134 0.16493425\n",
      " 0.17084534 0.17112085 0.16871634 0.16210394 0.16280526 0.16568566\n",
      " 0.17179712 0.1764809  0.17635567 0.183469   0.18562304 0.18219161\n",
      " 0.18126487 0.17778334 0.18467126 0.18564809 0.19273638 0.19153413\n",
      " 0.19313713 0.19829681 0.19556669 0.19579211 0.19316218 0.20077646\n",
      " 0.19997495 0.19644333 0.20343143 0.20641202 0.20726362 0.21823419\n",
      " 0.2144521  0.21162179 0.21282405 0.20999374 0.20480902 0.20348153\n",
      " 0.20771446 0.20964308 0.21001879 0.21828428 0.21763306 0.2210645\n",
      " 0.21613024 0.21314966 0.21517846 0.21735755 0.21956168 0.21635567\n",
      " 0.22289292 0.22444584 0.22232937 0.21475266 0.21122104 0.18822793\n",
      " 0.18036318 0.18274264 0.17871008 0.17815905 0.1777082  0.18189105\n",
      " 0.17685661 0.17465247 0.1682154  0.16944271 0.18693303 0.18553965\n",
      " 0.18514721 0.18539856 0.1859998  0.18677169]\n",
      "6 day output [[0.1876284]]\n",
      "7 day input [0.14482154 0.13823419 0.13515341 0.13340013 0.14707577 0.14619912\n",
      " 0.14624922 0.14935504 0.15226049 0.14980589 0.14572323 0.14649969\n",
      " 0.14259236 0.14256731 0.15421415 0.15739512 0.15716969 0.15453976\n",
      " 0.15180964 0.14765185 0.16713838 0.16696306 0.16262993 0.16710081\n",
      " 0.16758923 0.16463369 0.16338134 0.16338134 0.16493425 0.17084534\n",
      " 0.17112085 0.16871634 0.16210394 0.16280526 0.16568566 0.17179712\n",
      " 0.1764809  0.17635567 0.183469   0.18562304 0.18219161 0.18126487\n",
      " 0.17778334 0.18467126 0.18564809 0.19273638 0.19153413 0.19313713\n",
      " 0.19829681 0.19556669 0.19579211 0.19316218 0.20077646 0.19997495\n",
      " 0.19644333 0.20343143 0.20641202 0.20726362 0.21823419 0.2144521\n",
      " 0.21162179 0.21282405 0.20999374 0.20480902 0.20348153 0.20771446\n",
      " 0.20964308 0.21001879 0.21828428 0.21763306 0.2210645  0.21613024\n",
      " 0.21314966 0.21517846 0.21735755 0.21956168 0.21635567 0.22289292\n",
      " 0.22444584 0.22232937 0.21475266 0.21122104 0.18822793 0.18036318\n",
      " 0.18274264 0.17871008 0.17815905 0.1777082  0.18189105 0.17685661\n",
      " 0.17465247 0.1682154  0.16944271 0.18693303 0.18553965 0.18514721\n",
      " 0.18539856 0.1859998  0.18677169 0.1876284 ]\n",
      "7 day output [[0.18854131]]\n",
      "8 day input [0.13823419 0.13515341 0.13340013 0.14707577 0.14619912 0.14624922\n",
      " 0.14935504 0.15226049 0.14980589 0.14572323 0.14649969 0.14259236\n",
      " 0.14256731 0.15421415 0.15739512 0.15716969 0.15453976 0.15180964\n",
      " 0.14765185 0.16713838 0.16696306 0.16262993 0.16710081 0.16758923\n",
      " 0.16463369 0.16338134 0.16338134 0.16493425 0.17084534 0.17112085\n",
      " 0.16871634 0.16210394 0.16280526 0.16568566 0.17179712 0.1764809\n",
      " 0.17635567 0.183469   0.18562304 0.18219161 0.18126487 0.17778334\n",
      " 0.18467126 0.18564809 0.19273638 0.19153413 0.19313713 0.19829681\n",
      " 0.19556669 0.19579211 0.19316218 0.20077646 0.19997495 0.19644333\n",
      " 0.20343143 0.20641202 0.20726362 0.21823419 0.2144521  0.21162179\n",
      " 0.21282405 0.20999374 0.20480902 0.20348153 0.20771446 0.20964308\n",
      " 0.21001879 0.21828428 0.21763306 0.2210645  0.21613024 0.21314966\n",
      " 0.21517846 0.21735755 0.21956168 0.21635567 0.22289292 0.22444584\n",
      " 0.22232937 0.21475266 0.21122104 0.18822793 0.18036318 0.18274264\n",
      " 0.17871008 0.17815905 0.1777082  0.18189105 0.17685661 0.17465247\n",
      " 0.1682154  0.16944271 0.18693303 0.18553965 0.18514721 0.18539856\n",
      " 0.1859998  0.18677169 0.1876284  0.18854131]\n",
      "8 day output [[0.18950997]]\n",
      "9 day input [0.13515341 0.13340013 0.14707577 0.14619912 0.14624922 0.14935504\n",
      " 0.15226049 0.14980589 0.14572323 0.14649969 0.14259236 0.14256731\n",
      " 0.15421415 0.15739512 0.15716969 0.15453976 0.15180964 0.14765185\n",
      " 0.16713838 0.16696306 0.16262993 0.16710081 0.16758923 0.16463369\n",
      " 0.16338134 0.16338134 0.16493425 0.17084534 0.17112085 0.16871634\n",
      " 0.16210394 0.16280526 0.16568566 0.17179712 0.1764809  0.17635567\n",
      " 0.183469   0.18562304 0.18219161 0.18126487 0.17778334 0.18467126\n",
      " 0.18564809 0.19273638 0.19153413 0.19313713 0.19829681 0.19556669\n",
      " 0.19579211 0.19316218 0.20077646 0.19997495 0.19644333 0.20343143\n",
      " 0.20641202 0.20726362 0.21823419 0.2144521  0.21162179 0.21282405\n",
      " 0.20999374 0.20480902 0.20348153 0.20771446 0.20964308 0.21001879\n",
      " 0.21828428 0.21763306 0.2210645  0.21613024 0.21314966 0.21517846\n",
      " 0.21735755 0.21956168 0.21635567 0.22289292 0.22444584 0.22232937\n",
      " 0.21475266 0.21122104 0.18822793 0.18036318 0.18274264 0.17871008\n",
      " 0.17815905 0.1777082  0.18189105 0.17685661 0.17465247 0.1682154\n",
      " 0.16944271 0.18693303 0.18553965 0.18514721 0.18539856 0.1859998\n",
      " 0.18677169 0.1876284  0.18854131 0.18950997]\n",
      "9 day output [[0.19054355]]\n",
      "10 day input [0.13340013 0.14707577 0.14619912 0.14624922 0.14935504 0.15226049\n",
      " 0.14980589 0.14572323 0.14649969 0.14259236 0.14256731 0.15421415\n",
      " 0.15739512 0.15716969 0.15453976 0.15180964 0.14765185 0.16713838\n",
      " 0.16696306 0.16262993 0.16710081 0.16758923 0.16463369 0.16338134\n",
      " 0.16338134 0.16493425 0.17084534 0.17112085 0.16871634 0.16210394\n",
      " 0.16280526 0.16568566 0.17179712 0.1764809  0.17635567 0.183469\n",
      " 0.18562304 0.18219161 0.18126487 0.17778334 0.18467126 0.18564809\n",
      " 0.19273638 0.19153413 0.19313713 0.19829681 0.19556669 0.19579211\n",
      " 0.19316218 0.20077646 0.19997495 0.19644333 0.20343143 0.20641202\n",
      " 0.20726362 0.21823419 0.2144521  0.21162179 0.21282405 0.20999374\n",
      " 0.20480902 0.20348153 0.20771446 0.20964308 0.21001879 0.21828428\n",
      " 0.21763306 0.2210645  0.21613024 0.21314966 0.21517846 0.21735755\n",
      " 0.21956168 0.21635567 0.22289292 0.22444584 0.22232937 0.21475266\n",
      " 0.21122104 0.18822793 0.18036318 0.18274264 0.17871008 0.17815905\n",
      " 0.1777082  0.18189105 0.17685661 0.17465247 0.1682154  0.16944271\n",
      " 0.18693303 0.18553965 0.18514721 0.18539856 0.1859998  0.18677169\n",
      " 0.1876284  0.18854131 0.18950997 0.19054355]\n",
      "10 day output [[0.19165044]]\n",
      "11 day input [0.14707577 0.14619912 0.14624922 0.14935504 0.15226049 0.14980589\n",
      " 0.14572323 0.14649969 0.14259236 0.14256731 0.15421415 0.15739512\n",
      " 0.15716969 0.15453976 0.15180964 0.14765185 0.16713838 0.16696306\n",
      " 0.16262993 0.16710081 0.16758923 0.16463369 0.16338134 0.16338134\n",
      " 0.16493425 0.17084534 0.17112085 0.16871634 0.16210394 0.16280526\n",
      " 0.16568566 0.17179712 0.1764809  0.17635567 0.183469   0.18562304\n",
      " 0.18219161 0.18126487 0.17778334 0.18467126 0.18564809 0.19273638\n",
      " 0.19153413 0.19313713 0.19829681 0.19556669 0.19579211 0.19316218\n",
      " 0.20077646 0.19997495 0.19644333 0.20343143 0.20641202 0.20726362\n",
      " 0.21823419 0.2144521  0.21162179 0.21282405 0.20999374 0.20480902\n",
      " 0.20348153 0.20771446 0.20964308 0.21001879 0.21828428 0.21763306\n",
      " 0.2210645  0.21613024 0.21314966 0.21517846 0.21735755 0.21956168\n",
      " 0.21635567 0.22289292 0.22444584 0.22232937 0.21475266 0.21122104\n",
      " 0.18822793 0.18036318 0.18274264 0.17871008 0.17815905 0.1777082\n",
      " 0.18189105 0.17685661 0.17465247 0.1682154  0.16944271 0.18693303\n",
      " 0.18553965 0.18514721 0.18539856 0.1859998  0.18677169 0.1876284\n",
      " 0.18854131 0.18950997 0.19054355 0.19165044]\n",
      "11 day output [[0.19283406]]\n",
      "12 day input [0.14619912 0.14624922 0.14935504 0.15226049 0.14980589 0.14572323\n",
      " 0.14649969 0.14259236 0.14256731 0.15421415 0.15739512 0.15716969\n",
      " 0.15453976 0.15180964 0.14765185 0.16713838 0.16696306 0.16262993\n",
      " 0.16710081 0.16758923 0.16463369 0.16338134 0.16338134 0.16493425\n",
      " 0.17084534 0.17112085 0.16871634 0.16210394 0.16280526 0.16568566\n",
      " 0.17179712 0.1764809  0.17635567 0.183469   0.18562304 0.18219161\n",
      " 0.18126487 0.17778334 0.18467126 0.18564809 0.19273638 0.19153413\n",
      " 0.19313713 0.19829681 0.19556669 0.19579211 0.19316218 0.20077646\n",
      " 0.19997495 0.19644333 0.20343143 0.20641202 0.20726362 0.21823419\n",
      " 0.2144521  0.21162179 0.21282405 0.20999374 0.20480902 0.20348153\n",
      " 0.20771446 0.20964308 0.21001879 0.21828428 0.21763306 0.2210645\n",
      " 0.21613024 0.21314966 0.21517846 0.21735755 0.21956168 0.21635567\n",
      " 0.22289292 0.22444584 0.22232937 0.21475266 0.21122104 0.18822793\n",
      " 0.18036318 0.18274264 0.17871008 0.17815905 0.1777082  0.18189105\n",
      " 0.17685661 0.17465247 0.1682154  0.16944271 0.18693303 0.18553965\n",
      " 0.18514721 0.18539856 0.1859998  0.18677169 0.1876284  0.18854131\n",
      " 0.18950997 0.19054355 0.19165044 0.19283406]\n",
      "12 day output [[0.19409156]]\n",
      "13 day input [0.14624922 0.14935504 0.15226049 0.14980589 0.14572323 0.14649969\n",
      " 0.14259236 0.14256731 0.15421415 0.15739512 0.15716969 0.15453976\n",
      " 0.15180964 0.14765185 0.16713838 0.16696306 0.16262993 0.16710081\n",
      " 0.16758923 0.16463369 0.16338134 0.16338134 0.16493425 0.17084534\n",
      " 0.17112085 0.16871634 0.16210394 0.16280526 0.16568566 0.17179712\n",
      " 0.1764809  0.17635567 0.183469   0.18562304 0.18219161 0.18126487\n",
      " 0.17778334 0.18467126 0.18564809 0.19273638 0.19153413 0.19313713\n",
      " 0.19829681 0.19556669 0.19579211 0.19316218 0.20077646 0.19997495\n",
      " 0.19644333 0.20343143 0.20641202 0.20726362 0.21823419 0.2144521\n",
      " 0.21162179 0.21282405 0.20999374 0.20480902 0.20348153 0.20771446\n",
      " 0.20964308 0.21001879 0.21828428 0.21763306 0.2210645  0.21613024\n",
      " 0.21314966 0.21517846 0.21735755 0.21956168 0.21635567 0.22289292\n",
      " 0.22444584 0.22232937 0.21475266 0.21122104 0.18822793 0.18036318\n",
      " 0.18274264 0.17871008 0.17815905 0.1777082  0.18189105 0.17685661\n",
      " 0.17465247 0.1682154  0.16944271 0.18693303 0.18553965 0.18514721\n",
      " 0.18539856 0.1859998  0.18677169 0.1876284  0.18854131 0.18950997\n",
      " 0.19054355 0.19165044 0.19283406 0.19409156]\n",
      "13 day output [[0.19541459]]\n",
      "14 day input [0.14935504 0.15226049 0.14980589 0.14572323 0.14649969 0.14259236\n",
      " 0.14256731 0.15421415 0.15739512 0.15716969 0.15453976 0.15180964\n",
      " 0.14765185 0.16713838 0.16696306 0.16262993 0.16710081 0.16758923\n",
      " 0.16463369 0.16338134 0.16338134 0.16493425 0.17084534 0.17112085\n",
      " 0.16871634 0.16210394 0.16280526 0.16568566 0.17179712 0.1764809\n",
      " 0.17635567 0.183469   0.18562304 0.18219161 0.18126487 0.17778334\n",
      " 0.18467126 0.18564809 0.19273638 0.19153413 0.19313713 0.19829681\n",
      " 0.19556669 0.19579211 0.19316218 0.20077646 0.19997495 0.19644333\n",
      " 0.20343143 0.20641202 0.20726362 0.21823419 0.2144521  0.21162179\n",
      " 0.21282405 0.20999374 0.20480902 0.20348153 0.20771446 0.20964308\n",
      " 0.21001879 0.21828428 0.21763306 0.2210645  0.21613024 0.21314966\n",
      " 0.21517846 0.21735755 0.21956168 0.21635567 0.22289292 0.22444584\n",
      " 0.22232937 0.21475266 0.21122104 0.18822793 0.18036318 0.18274264\n",
      " 0.17871008 0.17815905 0.1777082  0.18189105 0.17685661 0.17465247\n",
      " 0.1682154  0.16944271 0.18693303 0.18553965 0.18514721 0.18539856\n",
      " 0.1859998  0.18677169 0.1876284  0.18854131 0.18950997 0.19054355\n",
      " 0.19165044 0.19283406 0.19409156 0.19541459]\n",
      "14 day output [[0.1967907]]\n",
      "15 day input [0.15226049 0.14980589 0.14572323 0.14649969 0.14259236 0.14256731\n",
      " 0.15421415 0.15739512 0.15716969 0.15453976 0.15180964 0.14765185\n",
      " 0.16713838 0.16696306 0.16262993 0.16710081 0.16758923 0.16463369\n",
      " 0.16338134 0.16338134 0.16493425 0.17084534 0.17112085 0.16871634\n",
      " 0.16210394 0.16280526 0.16568566 0.17179712 0.1764809  0.17635567\n",
      " 0.183469   0.18562304 0.18219161 0.18126487 0.17778334 0.18467126\n",
      " 0.18564809 0.19273638 0.19153413 0.19313713 0.19829681 0.19556669\n",
      " 0.19579211 0.19316218 0.20077646 0.19997495 0.19644333 0.20343143\n",
      " 0.20641202 0.20726362 0.21823419 0.2144521  0.21162179 0.21282405\n",
      " 0.20999374 0.20480902 0.20348153 0.20771446 0.20964308 0.21001879\n",
      " 0.21828428 0.21763306 0.2210645  0.21613024 0.21314966 0.21517846\n",
      " 0.21735755 0.21956168 0.21635567 0.22289292 0.22444584 0.22232937\n",
      " 0.21475266 0.21122104 0.18822793 0.18036318 0.18274264 0.17871008\n",
      " 0.17815905 0.1777082  0.18189105 0.17685661 0.17465247 0.1682154\n",
      " 0.16944271 0.18693303 0.18553965 0.18514721 0.18539856 0.1859998\n",
      " 0.18677169 0.1876284  0.18854131 0.18950997 0.19054355 0.19165044\n",
      " 0.19283406 0.19409156 0.19541459 0.1967907 ]\n",
      "15 day output [[0.19820507]]\n",
      "16 day input [0.14980589 0.14572323 0.14649969 0.14259236 0.14256731 0.15421415\n",
      " 0.15739512 0.15716969 0.15453976 0.15180964 0.14765185 0.16713838\n",
      " 0.16696306 0.16262993 0.16710081 0.16758923 0.16463369 0.16338134\n",
      " 0.16338134 0.16493425 0.17084534 0.17112085 0.16871634 0.16210394\n",
      " 0.16280526 0.16568566 0.17179712 0.1764809  0.17635567 0.183469\n",
      " 0.18562304 0.18219161 0.18126487 0.17778334 0.18467126 0.18564809\n",
      " 0.19273638 0.19153413 0.19313713 0.19829681 0.19556669 0.19579211\n",
      " 0.19316218 0.20077646 0.19997495 0.19644333 0.20343143 0.20641202\n",
      " 0.20726362 0.21823419 0.2144521  0.21162179 0.21282405 0.20999374\n",
      " 0.20480902 0.20348153 0.20771446 0.20964308 0.21001879 0.21828428\n",
      " 0.21763306 0.2210645  0.21613024 0.21314966 0.21517846 0.21735755\n",
      " 0.21956168 0.21635567 0.22289292 0.22444584 0.22232937 0.21475266\n",
      " 0.21122104 0.18822793 0.18036318 0.18274264 0.17871008 0.17815905\n",
      " 0.1777082  0.18189105 0.17685661 0.17465247 0.1682154  0.16944271\n",
      " 0.18693303 0.18553965 0.18514721 0.18539856 0.1859998  0.18677169\n",
      " 0.1876284  0.18854131 0.18950997 0.19054355 0.19165044 0.19283406\n",
      " 0.19409156 0.19541459 0.1967907  0.19820507]\n",
      "16 day output [[0.1996421]]\n",
      "17 day input [0.14572323 0.14649969 0.14259236 0.14256731 0.15421415 0.15739512\n",
      " 0.15716969 0.15453976 0.15180964 0.14765185 0.16713838 0.16696306\n",
      " 0.16262993 0.16710081 0.16758923 0.16463369 0.16338134 0.16338134\n",
      " 0.16493425 0.17084534 0.17112085 0.16871634 0.16210394 0.16280526\n",
      " 0.16568566 0.17179712 0.1764809  0.17635567 0.183469   0.18562304\n",
      " 0.18219161 0.18126487 0.17778334 0.18467126 0.18564809 0.19273638\n",
      " 0.19153413 0.19313713 0.19829681 0.19556669 0.19579211 0.19316218\n",
      " 0.20077646 0.19997495 0.19644333 0.20343143 0.20641202 0.20726362\n",
      " 0.21823419 0.2144521  0.21162179 0.21282405 0.20999374 0.20480902\n",
      " 0.20348153 0.20771446 0.20964308 0.21001879 0.21828428 0.21763306\n",
      " 0.2210645  0.21613024 0.21314966 0.21517846 0.21735755 0.21956168\n",
      " 0.21635567 0.22289292 0.22444584 0.22232937 0.21475266 0.21122104\n",
      " 0.18822793 0.18036318 0.18274264 0.17871008 0.17815905 0.1777082\n",
      " 0.18189105 0.17685661 0.17465247 0.1682154  0.16944271 0.18693303\n",
      " 0.18553965 0.18514721 0.18539856 0.1859998  0.18677169 0.1876284\n",
      " 0.18854131 0.18950997 0.19054355 0.19165044 0.19283406 0.19409156\n",
      " 0.19541459 0.1967907  0.19820507 0.19964211]\n",
      "17 day output [[0.20108697]]\n",
      "18 day input [0.14649969 0.14259236 0.14256731 0.15421415 0.15739512 0.15716969\n",
      " 0.15453976 0.15180964 0.14765185 0.16713838 0.16696306 0.16262993\n",
      " 0.16710081 0.16758923 0.16463369 0.16338134 0.16338134 0.16493425\n",
      " 0.17084534 0.17112085 0.16871634 0.16210394 0.16280526 0.16568566\n",
      " 0.17179712 0.1764809  0.17635567 0.183469   0.18562304 0.18219161\n",
      " 0.18126487 0.17778334 0.18467126 0.18564809 0.19273638 0.19153413\n",
      " 0.19313713 0.19829681 0.19556669 0.19579211 0.19316218 0.20077646\n",
      " 0.19997495 0.19644333 0.20343143 0.20641202 0.20726362 0.21823419\n",
      " 0.2144521  0.21162179 0.21282405 0.20999374 0.20480902 0.20348153\n",
      " 0.20771446 0.20964308 0.21001879 0.21828428 0.21763306 0.2210645\n",
      " 0.21613024 0.21314966 0.21517846 0.21735755 0.21956168 0.21635567\n",
      " 0.22289292 0.22444584 0.22232937 0.21475266 0.21122104 0.18822793\n",
      " 0.18036318 0.18274264 0.17871008 0.17815905 0.1777082  0.18189105\n",
      " 0.17685661 0.17465247 0.1682154  0.16944271 0.18693303 0.18553965\n",
      " 0.18514721 0.18539856 0.1859998  0.18677169 0.1876284  0.18854131\n",
      " 0.18950997 0.19054355 0.19165044 0.19283406 0.19409156 0.19541459\n",
      " 0.1967907  0.19820507 0.19964211 0.20108697]\n",
      "18 day output [[0.20252661]]\n",
      "19 day input [0.14259236 0.14256731 0.15421415 0.15739512 0.15716969 0.15453976\n",
      " 0.15180964 0.14765185 0.16713838 0.16696306 0.16262993 0.16710081\n",
      " 0.16758923 0.16463369 0.16338134 0.16338134 0.16493425 0.17084534\n",
      " 0.17112085 0.16871634 0.16210394 0.16280526 0.16568566 0.17179712\n",
      " 0.1764809  0.17635567 0.183469   0.18562304 0.18219161 0.18126487\n",
      " 0.17778334 0.18467126 0.18564809 0.19273638 0.19153413 0.19313713\n",
      " 0.19829681 0.19556669 0.19579211 0.19316218 0.20077646 0.19997495\n",
      " 0.19644333 0.20343143 0.20641202 0.20726362 0.21823419 0.2144521\n",
      " 0.21162179 0.21282405 0.20999374 0.20480902 0.20348153 0.20771446\n",
      " 0.20964308 0.21001879 0.21828428 0.21763306 0.2210645  0.21613024\n",
      " 0.21314966 0.21517846 0.21735755 0.21956168 0.21635567 0.22289292\n",
      " 0.22444584 0.22232937 0.21475266 0.21122104 0.18822793 0.18036318\n",
      " 0.18274264 0.17871008 0.17815905 0.1777082  0.18189105 0.17685661\n",
      " 0.17465247 0.1682154  0.16944271 0.18693303 0.18553965 0.18514721\n",
      " 0.18539856 0.1859998  0.18677169 0.1876284  0.18854131 0.18950997\n",
      " 0.19054355 0.19165044 0.19283406 0.19409156 0.19541459 0.1967907\n",
      " 0.19820507 0.19964211 0.20108697 0.20252661]\n",
      "19 day output [[0.20395063]]\n",
      "20 day input [0.14256731 0.15421415 0.15739512 0.15716969 0.15453976 0.15180964\n",
      " 0.14765185 0.16713838 0.16696306 0.16262993 0.16710081 0.16758923\n",
      " 0.16463369 0.16338134 0.16338134 0.16493425 0.17084534 0.17112085\n",
      " 0.16871634 0.16210394 0.16280526 0.16568566 0.17179712 0.1764809\n",
      " 0.17635567 0.183469   0.18562304 0.18219161 0.18126487 0.17778334\n",
      " 0.18467126 0.18564809 0.19273638 0.19153413 0.19313713 0.19829681\n",
      " 0.19556669 0.19579211 0.19316218 0.20077646 0.19997495 0.19644333\n",
      " 0.20343143 0.20641202 0.20726362 0.21823419 0.2144521  0.21162179\n",
      " 0.21282405 0.20999374 0.20480902 0.20348153 0.20771446 0.20964308\n",
      " 0.21001879 0.21828428 0.21763306 0.2210645  0.21613024 0.21314966\n",
      " 0.21517846 0.21735755 0.21956168 0.21635567 0.22289292 0.22444584\n",
      " 0.22232937 0.21475266 0.21122104 0.18822793 0.18036318 0.18274264\n",
      " 0.17871008 0.17815905 0.1777082  0.18189105 0.17685661 0.17465247\n",
      " 0.1682154  0.16944271 0.18693303 0.18553965 0.18514721 0.18539856\n",
      " 0.1859998  0.18677169 0.1876284  0.18854131 0.18950997 0.19054355\n",
      " 0.19165044 0.19283406 0.19409156 0.19541459 0.1967907  0.19820507\n",
      " 0.19964211 0.20108697 0.20252661 0.20395063]\n",
      "20 day output [[0.20535164]]\n",
      "21 day input [0.15421415 0.15739512 0.15716969 0.15453976 0.15180964 0.14765185\n",
      " 0.16713838 0.16696306 0.16262993 0.16710081 0.16758923 0.16463369\n",
      " 0.16338134 0.16338134 0.16493425 0.17084534 0.17112085 0.16871634\n",
      " 0.16210394 0.16280526 0.16568566 0.17179712 0.1764809  0.17635567\n",
      " 0.183469   0.18562304 0.18219161 0.18126487 0.17778334 0.18467126\n",
      " 0.18564809 0.19273638 0.19153413 0.19313713 0.19829681 0.19556669\n",
      " 0.19579211 0.19316218 0.20077646 0.19997495 0.19644333 0.20343143\n",
      " 0.20641202 0.20726362 0.21823419 0.2144521  0.21162179 0.21282405\n",
      " 0.20999374 0.20480902 0.20348153 0.20771446 0.20964308 0.21001879\n",
      " 0.21828428 0.21763306 0.2210645  0.21613024 0.21314966 0.21517846\n",
      " 0.21735755 0.21956168 0.21635567 0.22289292 0.22444584 0.22232937\n",
      " 0.21475266 0.21122104 0.18822793 0.18036318 0.18274264 0.17871008\n",
      " 0.17815905 0.1777082  0.18189105 0.17685661 0.17465247 0.1682154\n",
      " 0.16944271 0.18693303 0.18553965 0.18514721 0.18539856 0.1859998\n",
      " 0.18677169 0.1876284  0.18854131 0.18950997 0.19054355 0.19165044\n",
      " 0.19283406 0.19409156 0.19541459 0.1967907  0.19820507 0.19964211\n",
      " 0.20108697 0.20252661 0.20395063 0.20535164]\n",
      "21 day output [[0.20672533]]\n",
      "22 day input [0.15739512 0.15716969 0.15453976 0.15180964 0.14765185 0.16713838\n",
      " 0.16696306 0.16262993 0.16710081 0.16758923 0.16463369 0.16338134\n",
      " 0.16338134 0.16493425 0.17084534 0.17112085 0.16871634 0.16210394\n",
      " 0.16280526 0.16568566 0.17179712 0.1764809  0.17635567 0.183469\n",
      " 0.18562304 0.18219161 0.18126487 0.17778334 0.18467126 0.18564809\n",
      " 0.19273638 0.19153413 0.19313713 0.19829681 0.19556669 0.19579211\n",
      " 0.19316218 0.20077646 0.19997495 0.19644333 0.20343143 0.20641202\n",
      " 0.20726362 0.21823419 0.2144521  0.21162179 0.21282405 0.20999374\n",
      " 0.20480902 0.20348153 0.20771446 0.20964308 0.21001879 0.21828428\n",
      " 0.21763306 0.2210645  0.21613024 0.21314966 0.21517846 0.21735755\n",
      " 0.21956168 0.21635567 0.22289292 0.22444584 0.22232937 0.21475266\n",
      " 0.21122104 0.18822793 0.18036318 0.18274264 0.17871008 0.17815905\n",
      " 0.1777082  0.18189105 0.17685661 0.17465247 0.1682154  0.16944271\n",
      " 0.18693303 0.18553965 0.18514721 0.18539856 0.1859998  0.18677169\n",
      " 0.1876284  0.18854131 0.18950997 0.19054355 0.19165044 0.19283406\n",
      " 0.19409156 0.19541459 0.1967907  0.19820507 0.19964211 0.20108697\n",
      " 0.20252661 0.20395063 0.20535164 0.20672533]\n",
      "22 day output [[0.20807053]]\n",
      "23 day input [0.15716969 0.15453976 0.15180964 0.14765185 0.16713838 0.16696306\n",
      " 0.16262993 0.16710081 0.16758923 0.16463369 0.16338134 0.16338134\n",
      " 0.16493425 0.17084534 0.17112085 0.16871634 0.16210394 0.16280526\n",
      " 0.16568566 0.17179712 0.1764809  0.17635567 0.183469   0.18562304\n",
      " 0.18219161 0.18126487 0.17778334 0.18467126 0.18564809 0.19273638\n",
      " 0.19153413 0.19313713 0.19829681 0.19556669 0.19579211 0.19316218\n",
      " 0.20077646 0.19997495 0.19644333 0.20343143 0.20641202 0.20726362\n",
      " 0.21823419 0.2144521  0.21162179 0.21282405 0.20999374 0.20480902\n",
      " 0.20348153 0.20771446 0.20964308 0.21001879 0.21828428 0.21763306\n",
      " 0.2210645  0.21613024 0.21314966 0.21517846 0.21735755 0.21956168\n",
      " 0.21635567 0.22289292 0.22444584 0.22232937 0.21475266 0.21122104\n",
      " 0.18822793 0.18036318 0.18274264 0.17871008 0.17815905 0.1777082\n",
      " 0.18189105 0.17685661 0.17465247 0.1682154  0.16944271 0.18693303\n",
      " 0.18553965 0.18514721 0.18539856 0.1859998  0.18677169 0.1876284\n",
      " 0.18854131 0.18950997 0.19054355 0.19165044 0.19283406 0.19409156\n",
      " 0.19541459 0.1967907  0.19820507 0.19964211 0.20108697 0.20252661\n",
      " 0.20395063 0.20535164 0.20672533 0.20807053]\n",
      "23 day output [[0.20938838]]\n",
      "24 day input [0.15453976 0.15180964 0.14765185 0.16713838 0.16696306 0.16262993\n",
      " 0.16710081 0.16758923 0.16463369 0.16338134 0.16338134 0.16493425\n",
      " 0.17084534 0.17112085 0.16871634 0.16210394 0.16280526 0.16568566\n",
      " 0.17179712 0.1764809  0.17635567 0.183469   0.18562304 0.18219161\n",
      " 0.18126487 0.17778334 0.18467126 0.18564809 0.19273638 0.19153413\n",
      " 0.19313713 0.19829681 0.19556669 0.19579211 0.19316218 0.20077646\n",
      " 0.19997495 0.19644333 0.20343143 0.20641202 0.20726362 0.21823419\n",
      " 0.2144521  0.21162179 0.21282405 0.20999374 0.20480902 0.20348153\n",
      " 0.20771446 0.20964308 0.21001879 0.21828428 0.21763306 0.2210645\n",
      " 0.21613024 0.21314966 0.21517846 0.21735755 0.21956168 0.21635567\n",
      " 0.22289292 0.22444584 0.22232937 0.21475266 0.21122104 0.18822793\n",
      " 0.18036318 0.18274264 0.17871008 0.17815905 0.1777082  0.18189105\n",
      " 0.17685661 0.17465247 0.1682154  0.16944271 0.18693303 0.18553965\n",
      " 0.18514721 0.18539856 0.1859998  0.18677169 0.1876284  0.18854131\n",
      " 0.18950997 0.19054355 0.19165044 0.19283406 0.19409156 0.19541459\n",
      " 0.1967907  0.19820507 0.19964211 0.20108697 0.20252661 0.20395063\n",
      " 0.20535164 0.20672533 0.20807053 0.20938838]\n",
      "24 day output [[0.2106823]]\n",
      "25 day input [0.15180964 0.14765185 0.16713838 0.16696306 0.16262993 0.16710081\n",
      " 0.16758923 0.16463369 0.16338134 0.16338134 0.16493425 0.17084534\n",
      " 0.17112085 0.16871634 0.16210394 0.16280526 0.16568566 0.17179712\n",
      " 0.1764809  0.17635567 0.183469   0.18562304 0.18219161 0.18126487\n",
      " 0.17778334 0.18467126 0.18564809 0.19273638 0.19153413 0.19313713\n",
      " 0.19829681 0.19556669 0.19579211 0.19316218 0.20077646 0.19997495\n",
      " 0.19644333 0.20343143 0.20641202 0.20726362 0.21823419 0.2144521\n",
      " 0.21162179 0.21282405 0.20999374 0.20480902 0.20348153 0.20771446\n",
      " 0.20964308 0.21001879 0.21828428 0.21763306 0.2210645  0.21613024\n",
      " 0.21314966 0.21517846 0.21735755 0.21956168 0.21635567 0.22289292\n",
      " 0.22444584 0.22232937 0.21475266 0.21122104 0.18822793 0.18036318\n",
      " 0.18274264 0.17871008 0.17815905 0.1777082  0.18189105 0.17685661\n",
      " 0.17465247 0.1682154  0.16944271 0.18693303 0.18553965 0.18514721\n",
      " 0.18539856 0.1859998  0.18677169 0.1876284  0.18854131 0.18950997\n",
      " 0.19054355 0.19165044 0.19283406 0.19409156 0.19541459 0.1967907\n",
      " 0.19820507 0.19964211 0.20108697 0.20252661 0.20395063 0.20535164\n",
      " 0.20672533 0.20807053 0.20938838 0.2106823 ]\n",
      "25 day output [[0.21195713]]\n",
      "26 day input [0.14765185 0.16713838 0.16696306 0.16262993 0.16710081 0.16758923\n",
      " 0.16463369 0.16338134 0.16338134 0.16493425 0.17084534 0.17112085\n",
      " 0.16871634 0.16210394 0.16280526 0.16568566 0.17179712 0.1764809\n",
      " 0.17635567 0.183469   0.18562304 0.18219161 0.18126487 0.17778334\n",
      " 0.18467126 0.18564809 0.19273638 0.19153413 0.19313713 0.19829681\n",
      " 0.19556669 0.19579211 0.19316218 0.20077646 0.19997495 0.19644333\n",
      " 0.20343143 0.20641202 0.20726362 0.21823419 0.2144521  0.21162179\n",
      " 0.21282405 0.20999374 0.20480902 0.20348153 0.20771446 0.20964308\n",
      " 0.21001879 0.21828428 0.21763306 0.2210645  0.21613024 0.21314966\n",
      " 0.21517846 0.21735755 0.21956168 0.21635567 0.22289292 0.22444584\n",
      " 0.22232937 0.21475266 0.21122104 0.18822793 0.18036318 0.18274264\n",
      " 0.17871008 0.17815905 0.1777082  0.18189105 0.17685661 0.17465247\n",
      " 0.1682154  0.16944271 0.18693303 0.18553965 0.18514721 0.18539856\n",
      " 0.1859998  0.18677169 0.1876284  0.18854131 0.18950997 0.19054355\n",
      " 0.19165044 0.19283406 0.19409156 0.19541459 0.1967907  0.19820507\n",
      " 0.19964211 0.20108697 0.20252661 0.20395063 0.20535164 0.20672533\n",
      " 0.20807053 0.20938838 0.2106823  0.21195713]\n",
      "26 day output [[0.21321842]]\n",
      "27 day input [0.16713838 0.16696306 0.16262993 0.16710081 0.16758923 0.16463369\n",
      " 0.16338134 0.16338134 0.16493425 0.17084534 0.17112085 0.16871634\n",
      " 0.16210394 0.16280526 0.16568566 0.17179712 0.1764809  0.17635567\n",
      " 0.183469   0.18562304 0.18219161 0.18126487 0.17778334 0.18467126\n",
      " 0.18564809 0.19273638 0.19153413 0.19313713 0.19829681 0.19556669\n",
      " 0.19579211 0.19316218 0.20077646 0.19997495 0.19644333 0.20343143\n",
      " 0.20641202 0.20726362 0.21823419 0.2144521  0.21162179 0.21282405\n",
      " 0.20999374 0.20480902 0.20348153 0.20771446 0.20964308 0.21001879\n",
      " 0.21828428 0.21763306 0.2210645  0.21613024 0.21314966 0.21517846\n",
      " 0.21735755 0.21956168 0.21635567 0.22289292 0.22444584 0.22232937\n",
      " 0.21475266 0.21122104 0.18822793 0.18036318 0.18274264 0.17871008\n",
      " 0.17815905 0.1777082  0.18189105 0.17685661 0.17465247 0.1682154\n",
      " 0.16944271 0.18693303 0.18553965 0.18514721 0.18539856 0.1859998\n",
      " 0.18677169 0.1876284  0.18854131 0.18950997 0.19054355 0.19165044\n",
      " 0.19283406 0.19409156 0.19541459 0.1967907  0.19820507 0.19964211\n",
      " 0.20108697 0.20252661 0.20395063 0.20535164 0.20672533 0.20807053\n",
      " 0.20938838 0.2106823  0.21195713 0.21321842]\n",
      "27 day output [[0.21447232]]\n",
      "28 day input [0.16696306 0.16262993 0.16710081 0.16758923 0.16463369 0.16338134\n",
      " 0.16338134 0.16493425 0.17084534 0.17112085 0.16871634 0.16210394\n",
      " 0.16280526 0.16568566 0.17179712 0.1764809  0.17635567 0.183469\n",
      " 0.18562304 0.18219161 0.18126487 0.17778334 0.18467126 0.18564809\n",
      " 0.19273638 0.19153413 0.19313713 0.19829681 0.19556669 0.19579211\n",
      " 0.19316218 0.20077646 0.19997495 0.19644333 0.20343143 0.20641202\n",
      " 0.20726362 0.21823419 0.2144521  0.21162179 0.21282405 0.20999374\n",
      " 0.20480902 0.20348153 0.20771446 0.20964308 0.21001879 0.21828428\n",
      " 0.21763306 0.2210645  0.21613024 0.21314966 0.21517846 0.21735755\n",
      " 0.21956168 0.21635567 0.22289292 0.22444584 0.22232937 0.21475266\n",
      " 0.21122104 0.18822793 0.18036318 0.18274264 0.17871008 0.17815905\n",
      " 0.1777082  0.18189105 0.17685661 0.17465247 0.1682154  0.16944271\n",
      " 0.18693303 0.18553965 0.18514721 0.18539856 0.1859998  0.18677169\n",
      " 0.1876284  0.18854131 0.18950997 0.19054355 0.19165044 0.19283406\n",
      " 0.19409156 0.19541459 0.1967907  0.19820507 0.19964211 0.20108697\n",
      " 0.20252661 0.20395063 0.20535164 0.20672533 0.20807053 0.20938838\n",
      " 0.2106823  0.21195713 0.21321842 0.21447232]\n",
      "28 day output [[0.2157247]]\n",
      "29 day input [0.16262993 0.16710081 0.16758923 0.16463369 0.16338134 0.16338134\n",
      " 0.16493425 0.17084534 0.17112085 0.16871634 0.16210394 0.16280526\n",
      " 0.16568566 0.17179712 0.1764809  0.17635567 0.183469   0.18562304\n",
      " 0.18219161 0.18126487 0.17778334 0.18467126 0.18564809 0.19273638\n",
      " 0.19153413 0.19313713 0.19829681 0.19556669 0.19579211 0.19316218\n",
      " 0.20077646 0.19997495 0.19644333 0.20343143 0.20641202 0.20726362\n",
      " 0.21823419 0.2144521  0.21162179 0.21282405 0.20999374 0.20480902\n",
      " 0.20348153 0.20771446 0.20964308 0.21001879 0.21828428 0.21763306\n",
      " 0.2210645  0.21613024 0.21314966 0.21517846 0.21735755 0.21956168\n",
      " 0.21635567 0.22289292 0.22444584 0.22232937 0.21475266 0.21122104\n",
      " 0.18822793 0.18036318 0.18274264 0.17871008 0.17815905 0.1777082\n",
      " 0.18189105 0.17685661 0.17465247 0.1682154  0.16944271 0.18693303\n",
      " 0.18553965 0.18514721 0.18539856 0.1859998  0.18677169 0.1876284\n",
      " 0.18854131 0.18950997 0.19054355 0.19165044 0.19283406 0.19409156\n",
      " 0.19541459 0.1967907  0.19820507 0.19964211 0.20108697 0.20252661\n",
      " 0.20395063 0.20535164 0.20672533 0.20807053 0.20938838 0.2106823\n",
      " 0.21195713 0.21321842 0.21447232 0.21572471]\n",
      "29 day output [[0.2169807]]\n",
      "[[0.1869330257177353], [0.18553964793682098], [0.1851472109556198], [0.18539856374263763], [0.185999795794487], [0.1867716908454895], [0.18762840330600739], [0.18854130804538727], [0.18950997292995453], [0.1905435472726822], [0.19165043532848358], [0.1928340643644333], [0.1940915584564209], [0.19541458785533905], [0.1967906951904297], [0.19820506870746613], [0.1996421068906784], [0.20108696818351746], [0.20252661406993866], [0.20395062863826752], [0.20535163581371307], [0.2067253291606903], [0.2080705314874649], [0.2093883752822876], [0.21068230271339417], [0.21195712685585022], [0.21321842074394226], [0.21447232365608215], [0.21572470664978027], [0.2169806957244873]]\n"
     ]
    }
   ],
   "source": [
    "# demonstrate prediction for next 10 days\n",
    "from numpy import array\n",
    "\n",
    "lst_output=[]\n",
    "n_steps=100\n",
    "i=0\n",
    "while(i<30):\n",
    "    \n",
    "    if(len(temp_input)>100):\n",
    "        #print(temp_input)\n",
    "        x_input=np.array(temp_input[1:])\n",
    "        print(\"{} day input {}\".format(i,x_input))\n",
    "        x_input=x_input.reshape(1,-1)\n",
    "        x_input = x_input.reshape((1, n_steps, 1))\n",
    "        #print(x_input)\n",
    "        yhat = model.predict(x_input, verbose=0)\n",
    "        print(\"{} day output {}\".format(i,yhat))\n",
    "        temp_input.extend(yhat[0].tolist())\n",
    "        temp_input=temp_input[1:]\n",
    "        #print(temp_input)\n",
    "        lst_output.extend(yhat.tolist())\n",
    "        i=i+1\n",
    "    else:\n",
    "        x_input = x_input.reshape((1, n_steps,1))\n",
    "        yhat = model.predict(x_input, verbose=0)\n",
    "        print(yhat[0])\n",
    "        temp_input.extend(yhat[0].tolist())\n",
    "        print(len(temp_input))\n",
    "        lst_output.extend(yhat.tolist())\n",
    "        i=i+1\n",
    "    \n",
    "\n",
    "print(lst_output)"
   ]
  },
  {
   "cell_type": "code",
   "execution_count": 55,
   "metadata": {},
   "outputs": [],
   "source": [
    "day_new=np.arange(1,101)\n",
    "day_pred=np.arange(101,131)"
   ]
  },
  {
   "cell_type": "code",
   "execution_count": 56,
   "metadata": {},
   "outputs": [],
   "source": [
    "import matplotlib.pyplot as plt"
   ]
  },
  {
   "cell_type": "code",
   "execution_count": 57,
   "metadata": {},
   "outputs": [
    {
     "data": {
      "text/plain": [
       "1258"
      ]
     },
     "execution_count": 57,
     "metadata": {},
     "output_type": "execute_result"
    }
   ],
   "source": [
    "len(df1)"
   ]
  },
  {
   "cell_type": "code",
   "execution_count": 59,
   "metadata": {},
   "outputs": [
    {
     "data": {
      "text/plain": [
       "[<matplotlib.lines.Line2D at 0x7f9935292ed0>]"
      ]
     },
     "execution_count": 59,
     "metadata": {},
     "output_type": "execute_result"
    },
    {
     "data": {
      "image/png": "[encoded data removed]",
      "text/plain": [
       "<Figure size 640x480 with 1 Axes>"
      ]
     },
     "metadata": {},
     "output_type": "display_data"
    }
   ],
   "source": [
    "plt.plot(day_new,sc.inverse_transform(df1[1158:]))\n",
    "plt.plot(day_pred,sc.inverse_transform(lst_output))"
   ]
  },
  {
   "cell_type": "code",
   "execution_count": 60,
   "metadata": {},
   "outputs": [
    {
     "data": {
      "text/plain": [
       "[<matplotlib.lines.Line2D at 0x7f99354eff90>]"
      ]
     },
     "execution_count": 60,
     "metadata": {},
     "output_type": "execute_result"
    },
    {
     "data": {
      "image/png": "[encoded data removed]",
      "text/plain": [
       "<Figure size 640x480 with 1 Axes>"
      ]
     },
     "metadata": {},
     "output_type": "display_data"
    }
   ],
   "source": [
    "df3=df1.tolist()\n",
    "df3.extend(lst_output)\n",
    "plt.plot(df3[1200:])"
   ]
  },
  {
   "cell_type": "code",
   "execution_count": 61,
   "metadata": {},
   "outputs": [],
   "source": [
    "df3=sc.inverse_transform(df3).tolist()"
   ]
  },
  {
   "cell_type": "code",
   "execution_count": 62,
   "metadata": {},
   "outputs": [
    {
     "data": {
      "text/plain": [
       "[<matplotlib.lines.Line2D at 0x7f9935167410>]"
      ]
     },
     "execution_count": 62,
     "metadata": {},
     "output_type": "execute_result"
    },
    {
     "data": {
      "image/png": "[encoded data removed]",
      "text/plain": [
       "<Figure size 640x480 with 1 Axes>"
      ]
     },
     "metadata": {},
     "output_type": "display_data"
    }
   ],
   "source": [
    "plt.plot(df3)"
   ]
  }
 ],
 "metadata": {
  "kernelspec": {
   "display_name": "base",
   "language": "python",
   "name": "python3"
  },
  "language_info": {
   "codemirror_mode": {
    "name": "ipython",
    "version": 3
   },
   "file_extension": ".py",
   "mimetype": "text/x-python",
   "name": "python",
   "nbconvert_exporter": "python",
   "pygments_lexer": "ipython3",
   "version": "3.11.4"
  },
  "orig_nbformat": 4
 },
 "nbformat": 4,
 "nbformat_minor": 2
}
